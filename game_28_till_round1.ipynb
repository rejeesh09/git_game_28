{
 "cells": [
  {
   "cell_type": "markdown",
   "metadata": {},
   "source": [
    "## Main code"
   ]
  },
  {
   "cell_type": "code",
   "execution_count": 1,
   "metadata": {
    "scrolled": true,
    "tags": [
     "zz"
    ]
   },
   "outputs": [
    {
     "name": "stdout",
     "output_type": "stream",
     "text": [
      "\n",
      "Enter your name: ras\n",
      "\n",
      "No hold or no custom\n",
      "\n",
      "All hands are good to go\n",
      "\n",
      "\n",
      "Ras: \n",
      "9♠ \u001b[31mJ♥\u001b[0m 7♣ \u001b[31m8♦\u001b[0m \n",
      "\n",
      "Oppo_right: \n",
      "Q♣ 10♣ \u001b[31m10♦\u001b[0m \u001b[31mJ♦\u001b[0m \n",
      "\n",
      "Mate: \n",
      "A♠ \u001b[31mK♥\u001b[0m 8♣ \u001b[31mK♦\u001b[0m \n",
      "\n",
      "Oppo_left: \n",
      "\u001b[31m7♥\u001b[0m \u001b[31mQ♥\u001b[0m \u001b[31m10♥\u001b[0m \u001b[31m9♦\u001b[0m \n",
      "\n",
      "\n",
      "Start bidding: 'Enter'  \n",
      "\n",
      "Starting bid_turn_index is:  2\n",
      "\n",
      "Mate calls 14\n",
      "\n",
      "Oppo_left calls 15\n",
      "\n",
      "Enter your bid (any non-digit input will be considered as pass): \n",
      "\n",
      "Ras passes\n",
      "\n",
      "Mate passes\n",
      "\n",
      "Oppo_left made the highest bid: 15\n",
      "\n",
      "bid_counter value:  6\n",
      "\n",
      "Trump card set by Oppo_left\n",
      "\n",
      "\n",
      "Ras: \n",
      "9♠ \u001b[31mA♥\u001b[0m \u001b[31m9♥\u001b[0m \u001b[31mJ♥\u001b[0m 7♣ 9♣ J♣ \u001b[31m8♦\u001b[0m \n",
      "\n",
      "Oppo_right: \n",
      "K♠ 10♠ J♠ Q♣ 10♣ \u001b[31m10♦\u001b[0m \u001b[31mA♦\u001b[0m \u001b[31mJ♦\u001b[0m \n",
      "\n",
      "Mate: \n",
      "7♠ 8♠ Q♠ A♠ \u001b[31mK♥\u001b[0m 8♣ A♣ \u001b[31mK♦\u001b[0m \n",
      "\n",
      "Oppo_left: \n",
      "\u001b[31m7♥\u001b[0m \u001b[31m8♥\u001b[0m \u001b[31mQ♥\u001b[0m \u001b[31m10♥\u001b[0m K♣ \u001b[31m7♦\u001b[0m \u001b[31mQ♦\u001b[0m \u001b[31m9♦\u001b[0m \n",
      "\n",
      "\n",
      "Start 2nd bidding: 'Enter' \n",
      "\n",
      "Starting bid2_turn_index is:  2\n",
      "\n",
      "Mate passes\n",
      "\n",
      "Oppo_left passes\n",
      "\n",
      "Enter your 2nd round bid (any non-digit input will be considered as pass: \n",
      "\n",
      "Ras passes\n",
      "\n",
      "Oppo_right passes\n",
      "\n",
      "bid2_counter value:  3\n",
      "\n",
      "No one called 21 or above, so trump set by Oppo_left stays for the call of 15 \n",
      "\n",
      "Start game: 'Enter'\n",
      "\n",
      "\n",
      "Mate: \u001b[31mK♥\u001b[0m\n",
      "\n",
      "Oppo_left: \u001b[31m7♥\u001b[0m\n",
      "\n",
      "\n",
      "Your hand:  9♠ \u001b[31mA♥\u001b[0m \u001b[31m9♥\u001b[0m \u001b[31mJ♥\u001b[0m 7♣ 9♣ J♣ \u001b[31m8♦\u001b[0m \n",
      "Play your card; \n",
      "Enter rank followed by the first letter of the suit, \n",
      "eg. 7s or ah or 10d etc.\n",
      "(or 0 to stop game): jh\n",
      "\n",
      "\n",
      "Ras: \u001b[31mJ♥\u001b[0m\n",
      "Oppo_right calls trump\n",
      "\n",
      "Revealing trump, card set by Oppo_left was: \u001b[31mQ♥\u001b[0m\n",
      "\n",
      "\n",
      "Oppo_right: K♠\n",
      "\n",
      "                    Mate:\u001b[31mK♥\u001b[0m\n",
      "Oppo_left:\u001b[31m7♥\u001b[0m                      Oppo_right:K♠\n",
      "                    Ras: \u001b[31mJ♥\u001b[0m\n",
      "\n",
      "Round1 - starting from Mate, counter_clockwise:  \u001b[31mK♥\u001b[0m \u001b[31m7♥\u001b[0m \u001b[31mJ♥\u001b[0m K♠ \n",
      "\n",
      "round2_lead_index:  0\n",
      "\n",
      "Points scored - Your_team:3 , Oppo_team:0\n"
     ]
    }
   ],
   "source": [
    "\n",
    "from round_2 import Round_2\n",
    "\n",
    "    # below are the modules/classes that are being implicitly or otherwise called:\n",
    "    # (this was done to reduce current code size\n",
    "    # not sure if this was necessary or is the proper implementation)\n",
    "    ########################################################################\n",
    "\n",
    "    # 1)......... from cards import Cards\n",
    "    # the class - Cards() takes as argument the card name in alphanumeric-unicode combo and \n",
    "    # creates a card object\n",
    "    # All attributes of a card object can be accessed via methods such as .point(), .rank(), .suit(), \n",
    "    # .form(), .show() and .value().\n",
    "    ########################################################################\n",
    "\n",
    "    # 2)......... from deck import Deck\n",
    "    # the class - Deck() takes as argument a dictionary of the 32 card objects. \n",
    "    # a dictn of card objects (dictn_of_cards[j]=Cards(cards_no_colr[j])),\n",
    "    # is created and passed as argument to Deck() class through the __init__() of child class Prepare_game()\n",
    "    # It has methods .obj_deal(), .obj_sort_hands(), .obj_display_hands() and .obj_induvidual_dictns()\n",
    "    # All the above methods are also called through __init__() in child class Prepare_game()\n",
    "    ########################################################################\n",
    "\n",
    "    # 3)......... from prepare_game import Prepare_game\n",
    "    # the class - Prepare_game(Deck) takes as argument the boolean variale, hold, which is passed through the \n",
    "    # __init__() of it's child class Round_1().\n",
    "    # Apart from some list and dictn variables that are created in it's __init__(), \n",
    "    # it has methods for half bidding and setting trump\n",
    "    #-----------------------------------------------------------------------\n",
    "    # method for full bidding is yet to be written\n",
    "    ########################################################################\n",
    "\n",
    "    # 4)......... from round_1 import Round_1\n",
    "    # the class - Round_1(Prepare_game) passes the hold variable to Prepare_game() through __init__()\n",
    "    # It has methods, inp_parse_check(), round1_lead_logic(), round1_follow_logic() and round1_play()\n",
    "    ########################################################################\n",
    "\n",
    "    # 5)......... from round_2 import Round_2\n",
    "    # the class - Round_2(Round_1) passes the hold variable to Round_1() through __init__()\n",
    "    # it calls the round1_play() method of Round_1() as well in its __init__()\n",
    "    #-----------------------------------------------------------------------\n",
    "    # its methods are yet to be written\n",
    "    ########################################################################\n",
    "\n",
    "obj=Round_2(hold=False,custom_deal=False) # edit hand in custom_card_dealer_function\n",
    "\n",
    "    # pass hold=True to debug, runs previous hand again - this value is passed on to \n",
    "    # bid_half_hand() method in prepare_game(), to repeat the bid_turn_index\n",
    "    # pass custom_deal=True to run a custom dealt hand and turn_index, desired hand to be edited in\n",
    "    # custom_card_dealer_function.ipynb file\n",
    "    # to obj_deal() method in deck() to repeat the last obj_deal_lst\n",
    "    # the last deal of cards is dumped to last_deal.txt (file opened in binary mode to read and write), \n",
    "    # and loaded using pickle module\n",
    "    # the same with starting bid_turn_index. but it is stored in another txt file\n",
    "    # need to store all critical data in a single file and load from it as and when req.\n",
    "\n",
    "    # round1_play() is called in __init__() of Round_2()\n",
    "    ########################################################################\n",
    "\n",
    "    # Concerns\n",
    "    #.......................................................................\n",
    "\n",
    "    # entering player name eveytime, even for redeal for no trump\n",
    "\n",
    "    # the method display_hands() is only for debugging purposes and maybe finally after the game also\n",
    "    #    it is needed. it now has an additional bool arg, depending on which original or updated hands\n",
    "    #    are displayed. The parameter can be changed in half_bid in prepare game, where disp_hands is \n",
    "    #    called.\n",
    "    \n",
    "    # can J be let off before a round of the suit is played? \n",
    "    \n",
    "    # follow_logic() in round_1 needs to give player finer control over card played if the player is also\n",
    "    # the highest_bidder, especially in rounds of trump suit\n",
    "    \n",
    "    # calling a thani or 28 while bidding\n",
    "    \n",
    "    # looks like atleast from round2 some structured decision making might be in order\n",
    "\n",
    "    ########################################################################\n",
    "\n",
    "    # Tips\n",
    "    #.......................................................................\n",
    "\n",
    "    # Use Find and Replace in Edit menu - \n",
    "    # find '#print('\\nreached' and replace it w/o the '#' to get back line checkpoints for debugging\n",
    "\n",
    "    # magic command %%writefile is now being used to directly write all modules as .py file\n",
    "    # the first code cell is written to the file (%%writefile filename) and successive code cells \n",
    "    # are appended to that file (%%writefile -a filename).\n",
    "\n",
    "    # git \n",
    "    # do git status and see what is not committed\n",
    "    # after testing edits, do git commit, else git add and then commit for new files\n",
    "    # do git diff file_name to see differences before commit\n",
    "    # git push and pull for syncing with remote\n",
    "    # git remote -v to see all the remote repositories set up(common github.com)\n",
    "    # git push origin master (origin is the default name given to the -\n",
    "    # remote repository. master is the local repo. \n",
    "    # github username:rejeesh09, password:*; github might require 2factor authentication in future.\n",
    "    # other git: status, log, diff..\n",
    "    # git init for a new git directory \n"
   ]
  },
  {
   "cell_type": "code",
   "execution_count": null,
   "metadata": {},
   "outputs": [],
   "source": [
    "# obj.highest_bidder1_index"
   ]
  },
  {
   "cell_type": "code",
   "execution_count": null,
   "metadata": {},
   "outputs": [],
   "source": [
    "# obj.custom_deal"
   ]
  },
  {
   "cell_type": "code",
   "execution_count": null,
   "metadata": {},
   "outputs": [],
   "source": [
    "# obj.bid_full_hand()\n",
    "# bid_full_hand() method in Prepare_game() is incomplete"
   ]
  },
  {
   "cell_type": "code",
   "execution_count": null,
   "metadata": {},
   "outputs": [],
   "source": [
    "# obj.highest_bidder_index"
   ]
  },
  {
   "cell_type": "code",
   "execution_count": null,
   "metadata": {},
   "outputs": [],
   "source": [
    "# for i in obj.obj_deal_lst_copy[3]:\n",
    "#     print(i.show(),end=' ')"
   ]
  },
  {
   "cell_type": "code",
   "execution_count": null,
   "metadata": {},
   "outputs": [],
   "source": [
    "# obj.obj_display_hands(True)"
   ]
  },
  {
   "cell_type": "code",
   "execution_count": null,
   "metadata": {},
   "outputs": [],
   "source": [
    "# obj.bid2_any_call"
   ]
  },
  {
   "cell_type": "code",
   "execution_count": null,
   "metadata": {},
   "outputs": [],
   "source": [
    "# print(obj.obj_dictn_of_cards_grouped[0][1][1].show())"
   ]
  },
  {
   "cell_type": "code",
   "execution_count": null,
   "metadata": {},
   "outputs": [],
   "source": [
    "# for i in obj.obj_dictn_of_cards_grouped:\n",
    "#     for j in obj.obj_dictn_of_cards_grouped[i]:\n",
    "#         for k in obj.obj_dictn_of_cards_grouped[i][j]:\n",
    "#             print(k.show()+' ',end='')\n",
    "#     print('\\n')"
   ]
  },
  {
   "cell_type": "code",
   "execution_count": null,
   "metadata": {},
   "outputs": [],
   "source": [
    "# for i in obj.obj_deal_lst[2]:\n",
    "#     print(i.show(),end=' ')  "
   ]
  },
  {
   "cell_type": "code",
   "execution_count": null,
   "metadata": {},
   "outputs": [],
   "source": [
    "# for i in obj.obj_deal_lst_copy[0]:\n",
    "#     print(i.show(),end=' ')"
   ]
  },
  {
   "cell_type": "code",
   "execution_count": null,
   "metadata": {},
   "outputs": [],
   "source": [
    "# for i in obj.obj_deal_lst_sorted[0]:\n",
    "#     print(i.show(),end=' ')"
   ]
  },
  {
   "cell_type": "code",
   "execution_count": null,
   "metadata": {},
   "outputs": [],
   "source": [
    "# j_count=[0,0,0,0]\n",
    "# for k in range(4):\n",
    "#     for i in obj.obj_deal_lst[k]:\n",
    "#         if i.rank()=='J':\n",
    "#             j_count[k]+=1\n",
    "# print(j_count)"
   ]
  },
  {
   "cell_type": "code",
   "execution_count": null,
   "metadata": {},
   "outputs": [],
   "source": [
    "# if not 2:\n",
    "#     print('ye')"
   ]
  },
  {
   "cell_type": "code",
   "execution_count": null,
   "metadata": {},
   "outputs": [],
   "source": [
    "# dictnu={1:[1,2,3,4],0:[],2:[1,5,6]}\n",
    "# if True in list(map(lambda x: len(dictnu[x])==3, dictnu)):\n",
    "#     print('yes')"
   ]
  }
 ],
 "metadata": {
  "kernelspec": {
   "display_name": "Python 3",
   "language": "python",
   "name": "python3"
  },
  "language_info": {
   "codemirror_mode": {
    "name": "ipython",
    "version": 3
   },
   "file_extension": ".py",
   "mimetype": "text/x-python",
   "name": "python",
   "nbconvert_exporter": "python",
   "pygments_lexer": "ipython3",
   "version": "3.8.3"
  }
 },
 "nbformat": 4,
 "nbformat_minor": 4
}
