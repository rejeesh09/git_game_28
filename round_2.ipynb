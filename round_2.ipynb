{
 "cells": [
  {
   "cell_type": "markdown",
   "metadata": {},
   "source": [
    "## importing round_1 module before defining Round_2() class"
   ]
  },
  {
   "cell_type": "code",
   "execution_count": 15,
   "metadata": {},
   "outputs": [
    {
     "name": "stdout",
     "output_type": "stream",
     "text": [
      "Overwriting round_2.py\n"
     ]
    }
   ],
   "source": [
    "%%writefile round_2.py\n",
    "from round_1 import Round_1\n",
    "# obj1=Round_1(True)\n",
    "    "
   ]
  },
  {
   "cell_type": "markdown",
   "metadata": {},
   "source": [
    "## Round_2() class"
   ]
  },
  {
   "cell_type": "code",
   "execution_count": 16,
   "metadata": {},
   "outputs": [
    {
     "name": "stdout",
     "output_type": "stream",
     "text": [
      "Appending to round_2.py\n"
     ]
    }
   ],
   "source": [
    "%%writefile -a round_2.py\n",
    "class Round_2(Round_1):\n",
    "    def __init__(self,hold):\n",
    "        self.hold=hold\n",
    "        super().__init__(self.hold)\n",
    "        # kind of creating an object instance of Round_1() class with the above __init__()\n",
    "        super().round1_play()\n",
    "        # similarly round2_play(to be defined){as well as __init__()} \n",
    "        # can be called in __init__() of Round_3() and so on.\n",
    "    \n",
    "    # methods to be defined in this class\n",
    "    # round2_lead_logic()\n",
    "    # round2_follow_logic()\n",
    "    # round2_play()\n"
   ]
  }
 ],
 "metadata": {
  "kernelspec": {
   "display_name": "Python 3",
   "language": "python",
   "name": "python3"
  },
  "language_info": {
   "codemirror_mode": {
    "name": "ipython",
    "version": 3
   },
   "file_extension": ".py",
   "mimetype": "text/x-python",
   "name": "python",
   "nbconvert_exporter": "python",
   "pygments_lexer": "ipython3",
   "version": "3.8.3"
  }
 },
 "nbformat": 4,
 "nbformat_minor": 4
}
