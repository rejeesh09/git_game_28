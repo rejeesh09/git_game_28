{
 "cells": [
  {
   "cell_type": "markdown",
   "id": "b0730573",
   "metadata": {},
   "source": [
    "To see the cards that were written in the previous play  \n",
    "For debugging purposes"
   ]
  },
  {
   "cell_type": "code",
   "execution_count": 10,
   "id": "c289cb90",
   "metadata": {},
   "outputs": [],
   "source": [
    "import pickle\n",
    "from cards import Cards"
   ]
  },
  {
   "cell_type": "code",
   "execution_count": 11,
   "id": "b6ddf315",
   "metadata": {},
   "outputs": [],
   "source": [
    "player_names = {0:'Player',1:'Oppo_right',2:'Mate  ',3:'Oppo_left'}\n",
    "\n",
    "card_file_names = {}\n",
    "for i in range(2,9):\n",
    "    card_file_names[i] = f'./pickle_dump/round{i}_cards.dat'"
   ]
  },
  {
   "cell_type": "code",
   "execution_count": 12,
   "id": "8827ed19",
   "metadata": {},
   "outputs": [],
   "source": [
    "card_holder = {}\n",
    "for round_no in range(2,9):\n",
    "    f=open(card_file_names[round_no],\"rb\")\n",
    "    round_cards = pickle.load(f)\n",
    "    card_holder[round_no] = round_cards\n",
    "#     self.card_played=self.round_cards[self.round_no][self.turn_index]\n",
    "    f.close()"
   ]
  },
  {
   "cell_type": "code",
   "execution_count": 13,
   "id": "83f9f6e1",
   "metadata": {},
   "outputs": [
    {
     "name": "stdout",
     "output_type": "stream",
     "text": [
      "\n",
      "Round2: Player - \t\u001b[31m8♥\u001b[0m \u001b[31m7♥\u001b[0m \u001b[31mQ♥\u001b[0m \u001b[31mJ♥\u001b[0m \n",
      "Round3: Oppo_left - \tJ♠ 7♣ 10♠ Q♠ \n",
      "Round4: Oppo_left - \t7♠ 10♣ \u001b[31mQ♦\u001b[0m K♠ \n",
      "Round5: Mate   - \t\u001b[31m9♥\u001b[0m 8♠ \u001b[31mK♥\u001b[0m \u001b[31mA♥\u001b[0m \n",
      "Round6: Mate   - \t9♠ A♠ \u001b[31mA♦\u001b[0m \u001b[31m10♥\u001b[0m \n",
      "Round7: Mate   - \tQ♣ A♣ K♣ 9♣ \n",
      "Round8: Oppo_right - \tJ♣ \u001b[31mK♦\u001b[0m \u001b[31m9♦\u001b[0m 8♣ "
     ]
    }
   ],
   "source": [
    "for key in card_holder:\n",
    "    print(f'\\nRound{key}: ',end='')\n",
    "    print(f'{player_names[list(card_holder[key].keys())[0]]} - ',end='\\t')\n",
    "    cards = card_holder[key].values()\n",
    "    for card in cards:\n",
    "        print(card.show(),end=' ')"
   ]
  }
 ],
 "metadata": {
  "kernelspec": {
   "display_name": "Python 3 (ipykernel)",
   "language": "python",
   "name": "python3"
  },
  "language_info": {
   "codemirror_mode": {
    "name": "ipython",
    "version": 3
   },
   "file_extension": ".py",
   "mimetype": "text/x-python",
   "name": "python",
   "nbconvert_exporter": "python",
   "pygments_lexer": "ipython3",
   "version": "3.10.6"
  },
  "toc": {
   "base_numbering": 1,
   "nav_menu": {},
   "number_sections": true,
   "sideBar": true,
   "skip_h1_title": false,
   "title_cell": "Table of Contents",
   "title_sidebar": "Contents",
   "toc_cell": false,
   "toc_position": {},
   "toc_section_display": true,
   "toc_window_display": false
  },
  "varInspector": {
   "cols": {
    "lenName": 16,
    "lenType": 16,
    "lenVar": 40
   },
   "kernels_config": {
    "python": {
     "delete_cmd_postfix": "",
     "delete_cmd_prefix": "del ",
     "library": "var_list.py",
     "varRefreshCmd": "print(var_dic_list())"
    },
    "r": {
     "delete_cmd_postfix": ") ",
     "delete_cmd_prefix": "rm(",
     "library": "var_list.r",
     "varRefreshCmd": "cat(var_dic_list()) "
    }
   },
   "types_to_exclude": [
    "module",
    "function",
    "builtin_function_or_method",
    "instance",
    "_Feature"
   ],
   "window_display": false
  }
 },
 "nbformat": 4,
 "nbformat_minor": 5
}
