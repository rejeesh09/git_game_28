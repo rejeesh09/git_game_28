{
 "cells": [
  {
   "cell_type": "markdown",
   "metadata": {},
   "source": [
    "## Importing Round_1 - parent class of Round_2()"
   ]
  },
  {
   "cell_type": "code",
   "execution_count": 1,
   "metadata": {},
   "outputs": [
    {
     "name": "stdout",
     "output_type": "stream",
     "text": [
      "Overwriting round_2.py\n"
     ]
    }
   ],
   "source": [
    "%%writefile round_2.py\n",
    "#########################################################################\n",
    "from round_1 import Round_1\n",
    "# Round_1() class is where the first round of the game takes place(i.e. round1_play() method in Round_1())\n",
    "# so the round1_play() method has to be called from Round_2 and round2_play() from Round_3 and so on"
   ]
  },
  {
   "cell_type": "markdown",
   "metadata": {},
   "source": [
    "## e. Round_2() class"
   ]
  },
  {
   "cell_type": "code",
   "execution_count": 2,
   "metadata": {},
   "outputs": [
    {
     "name": "stdout",
     "output_type": "stream",
     "text": [
      "Appending to round_2.py\n"
     ]
    }
   ],
   "source": [
    "%%writefile -a round_2.py\n",
    "#########################################################################\n",
    "class Round_2(Round_1):\n",
    "    def __init__(self,hold,custom_deal,tkntr_rt):\n",
    "        self.hold=hold\n",
    "        self.custom_deal=custom_deal\n",
    "        self.tkntr_rt=tkntr_rt\n",
    "        # don't think these arguments to be passed below have to be made self as done above.\n",
    "        super().__init__(self.hold,self.custom_deal,self.tkntr_rt)\n",
    "        # kind of creating an object instance of Round_1() class with the above __init__()\n",
    "        super().round1_play()\n",
    "        # similarly round2_play(to be defined){as well as super().__init__()} \n",
    "        # can be called in __init__() of class Round_3(Round_2) and so on.\n",
    "    \n",
    "    # methods to be defined in this class\n",
    "    # round2_lead_logic()\n",
    "    # round2_follow_logic()\n",
    "    # round2_play()\n"
   ]
  }
 ],
 "metadata": {
  "kernelspec": {
   "display_name": "Python 3",
   "language": "python",
   "name": "python3"
  },
  "language_info": {
   "codemirror_mode": {
    "name": "ipython",
    "version": 3
   },
   "file_extension": ".py",
   "mimetype": "text/x-python",
   "name": "python",
   "nbconvert_exporter": "python",
   "pygments_lexer": "ipython3",
   "version": "3.8.3"
  }
 },
 "nbformat": 4,
 "nbformat_minor": 4
}
