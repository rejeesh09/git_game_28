{
 "cells": [
  {
   "cell_type": "markdown",
   "metadata": {},
   "source": [
    "## Creates a custom set of hands (for debugging)"
   ]
  },
  {
   "cell_type": "code",
   "execution_count": 2,
   "metadata": {},
   "outputs": [
    {
     "name": "stdout",
     "output_type": "stream",
     "text": [
      "\n",
      "Show the custom hand: 'Enter'\n",
      "\n",
      "\n",
      "\u001b[31mQ♥\u001b[0m \u001b[31mJ♥\u001b[0m \u001b[31m8♥\u001b[0m \u001b[31mK♥\u001b[0m \u001b[31mA♥\u001b[0m J♣ 9♣ \u001b[31m10♥\u001b[0m \n",
      "\n",
      "\u001b[31mA♦\u001b[0m \u001b[31m9♦\u001b[0m 8♣ \u001b[31mJ♦\u001b[0m \u001b[31m7♥\u001b[0m K♠ Q♣ 7♣ \n",
      "\n",
      "K♣ \u001b[31m9♥\u001b[0m 10♣ A♣ J♠ A♠ \u001b[31mK♦\u001b[0m \u001b[31m10♦\u001b[0m \n",
      "\n",
      "7♠ 8♠ Q♠ 10♠ 9♠ \u001b[31mQ♦\u001b[0m \u001b[31m7♦\u001b[0m \u001b[31m8♦\u001b[0m \n",
      "\n",
      "'Enter'\n",
      "\n",
      "All 32 cards dealt!\n",
      "\n"
     ]
    }
   ],
   "source": [
    "from cards import Cards\n",
    "import pickle\n",
    "\n",
    "custom_turn_index=3\n",
    "# the first 4 cards of each hand will be used for first round bid\n",
    "# so tweak the hands according to whom should have highest bid in 1st round and whom should have it\n",
    "# in second round etc.\n",
    "custom_inp_lst=[['qh','jh','8h','kh','ah','jc','9c','10h'],\\\n",
    "                ['ad','9d','8c','jd','7h','ks','qc','7c'],\\\n",
    "                ['kc','9h','10c','ac','js','as','kd','10d'],\\\n",
    "                ['7s','8s','qs','10s','9s','qd','7d','8d']]\n",
    "custom_deal_lst=[[],[],[],[]]\n",
    "\n",
    "suit_inp=['s','h','c','d']\n",
    "rank=['7','8','q','k','10','a','9','j']\n",
    "\n",
    "suit_uni=['\\u2660','\\u2665','\\u2663','\\u2666']\n",
    "red_begin='\\033[31m'\n",
    "red_end='\\033[0m'\n",
    "\n",
    "legal_card_lst=[]\n",
    "for z in suit_inp:\n",
    "    legal_card_lst.extend([x+z for x in rank])\n",
    "duplicate_card_lst=[]\n",
    "\n",
    "for i in range(4):\n",
    "    for j in custom_inp_lst[i]:\n",
    "        if j in legal_card_lst:\n",
    "            legal_card_lst.remove(j)\n",
    "            k=j.capitalize()\n",
    "\n",
    "            if k[-1]=='s':\n",
    "                if k[0]!='1':\n",
    "                    inp_uni=k[0].upper()+'\\u2660'\n",
    "                else:\n",
    "                    inp_uni=k[0].upper()+'0'+'\\u2660'\n",
    "            elif k[-1]=='h':\n",
    "                if k[0]!='1':\n",
    "                    inp_uni=k[0].upper()+'\\u2665'\n",
    "                else:\n",
    "                    inp_uni=k[0].upper()+'0'+'\\u2665'\n",
    "            elif k[-1]=='c':\n",
    "                if k[0]!='1':\n",
    "                    inp_uni=k[0].upper()+'\\u2663'\n",
    "                else:\n",
    "                    inp_uni=k[0].upper()+'0'+'\\u2663'\n",
    "            elif k[-1]=='d':\n",
    "                if k[0]!='1':\n",
    "                    inp_uni=k[0].upper()+'\\u2666'\n",
    "                else:\n",
    "                    inp_uni=k[0].upper()+'0'+'\\u2666'\n",
    "\n",
    "            custom_deal_lst[i].append(Cards(inp_uni))\n",
    "        else:\n",
    "            duplicate_card_lst.append(j)\n",
    "\n",
    "input(\"\\nShow the custom hand: 'Enter'\")\n",
    "\n",
    "if len(duplicate_card_lst):\n",
    "    print('\\nThese cards were repeated in input list or are not valid: ')\n",
    "    print(duplicate_card_lst[:],end=' ')\n",
    "    print('\\nThese cards did not occur in input list: ')\n",
    "    print(legal_card_lst[:],end=' ')\n",
    "    input(\"\\n'Enter'\")\n",
    "    print('\\ncustom_deal_lst NOT WRITTEN TO FILE!!!')\n",
    "else:\n",
    "    f=open(\"./pickle_dump/custom_dealt_hand.dat\",\"wb\")\n",
    "    pickle.dump(custom_deal_lst,f)\n",
    "    f.close()\n",
    "\n",
    "    fb=open(\"./pickle_dump/custom_starting_bid_turn.dat\",\"wb\")\n",
    "    pickle.dump(custom_turn_index,fb)\n",
    "    fb.close()\n",
    "    \n",
    "    for i in range(4):\n",
    "        print('\\n')\n",
    "        for k in custom_deal_lst[i]:\n",
    "            print(k.show(),end=' ')\n",
    "    input(\"\\n\\n'Enter'\")\n",
    "    print('\\nAll 32 cards dealt!\\n')"
   ]
  }
 ],
 "metadata": {
  "kernelspec": {
   "display_name": "Python 3 (ipykernel)",
   "language": "python",
   "name": "python3"
  },
  "language_info": {
   "codemirror_mode": {
    "name": "ipython",
    "version": 3
   },
   "file_extension": ".py",
   "mimetype": "text/x-python",
   "name": "python",
   "nbconvert_exporter": "python",
   "pygments_lexer": "ipython3",
   "version": "3.10.6"
  },
  "toc": {
   "base_numbering": 1,
   "nav_menu": {},
   "number_sections": true,
   "sideBar": true,
   "skip_h1_title": false,
   "title_cell": "Table of Contents",
   "title_sidebar": "Contents",
   "toc_cell": false,
   "toc_position": {},
   "toc_section_display": true,
   "toc_window_display": false
  },
  "varInspector": {
   "cols": {
    "lenName": 16,
    "lenType": 16,
    "lenVar": 40
   },
   "kernels_config": {
    "python": {
     "delete_cmd_postfix": "",
     "delete_cmd_prefix": "del ",
     "library": "var_list.py",
     "varRefreshCmd": "print(var_dic_list())"
    },
    "r": {
     "delete_cmd_postfix": ") ",
     "delete_cmd_prefix": "rm(",
     "library": "var_list.r",
     "varRefreshCmd": "cat(var_dic_list()) "
    }
   },
   "types_to_exclude": [
    "module",
    "function",
    "builtin_function_or_method",
    "instance",
    "_Feature"
   ],
   "window_display": false
  }
 },
 "nbformat": 4,
 "nbformat_minor": 4
}
