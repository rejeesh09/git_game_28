{
 "cells": [
  {
   "cell_type": "markdown",
   "metadata": {
    "heading_collapsed": true
   },
   "source": [
    "## Importing Round_7 - parent class of Round_8()"
   ]
  },
  {
   "cell_type": "code",
   "execution_count": 1,
   "metadata": {
    "hidden": true
   },
   "outputs": [
    {
     "name": "stdout",
     "output_type": "stream",
     "text": [
      "Overwriting round_8.py\n"
     ]
    }
   ],
   "source": [
    "%%writefile round_8.py\n",
    "#########################################################################\n",
    "#unfolder - finding and replacing unfolder with itself helps to unfold all the code.\n",
    "from round_7 import Round_7\n",
    "# Round_*7() class is where the seventh round of the game takes place(i.e. round*7_play() method in Round_*7())\n",
    "# so the round*7_play() method has to be called from Round_*8 and round*8_play() from main code."
   ]
  },
  {
   "cell_type": "markdown",
   "metadata": {
    "heading_collapsed": true
   },
   "source": [
    "## Other modules"
   ]
  },
  {
   "cell_type": "code",
   "execution_count": 2,
   "metadata": {
    "hidden": true
   },
   "outputs": [
    {
     "name": "stdout",
     "output_type": "stream",
     "text": [
      "Appending to round_8.py\n"
     ]
    }
   ],
   "source": [
    "%%writefile -a round_8.py\n",
    "########################################################################\n",
    "import time\n",
    "import sys\n",
    "# sys used in inp_parse_check to exit \n",
    "# sys and time used in follow_logic to print played cards with delay before taking player inp\n",
    "\n",
    "# added on 06/10/2022 since there is randomness in each round play and hence the card played\n",
    "# in each round should be reloadable for debugging purposes\n",
    "import random\n",
    "import pickle"
   ]
  },
  {
   "cell_type": "markdown",
   "metadata": {},
   "source": [
    "## e. Round_7() class"
   ]
  },
  {
   "cell_type": "code",
   "execution_count": 3,
   "metadata": {
    "code_folding": []
   },
   "outputs": [
    {
     "name": "stdout",
     "output_type": "stream",
     "text": [
      "Appending to round_8.py\n"
     ]
    }
   ],
   "source": [
    "%%writefile -a round_8.py\n",
    "#########################################################################\n",
    "class Round_8(Round_7):\n",
    "    def __init__(self,hold,custom_deal,tkntr_rt):\n",
    "        self.hold=hold\n",
    "        self.custom_deal=custom_deal\n",
    "        self.tkntr_rt=tkntr_rt\n",
    "        # don't think these arguments to be passed below have to be made self as done above.\n",
    "        super().__init__(self.hold,self.custom_deal,self.tkntr_rt)\n",
    "        # kind of creating an object instance of Round_*7() class with the above __init__()\n",
    "        super().round7_play()\n",
    "        # round*8_play() to be called from main code\n",
    "    \n",
    "    # methods in this class are:\n",
    "    # round*8_play()\n",
    "    \n",
    "\n",
    "# #######################################################################\n",
    "# #round_*8() class end ##################################################"
   ]
  }
 ],
 "metadata": {
  "kernelspec": {
   "display_name": "Python 3 (ipykernel)",
   "language": "python",
   "name": "python3"
  },
  "language_info": {
   "codemirror_mode": {
    "name": "ipython",
    "version": 3
   },
   "file_extension": ".py",
   "mimetype": "text/x-python",
   "name": "python",
   "nbconvert_exporter": "python",
   "pygments_lexer": "ipython3",
   "version": "3.10.6"
  },
  "toc": {
   "base_numbering": 1,
   "nav_menu": {},
   "number_sections": true,
   "sideBar": true,
   "skip_h1_title": false,
   "title_cell": "Table of Contents",
   "title_sidebar": "Contents",
   "toc_cell": false,
   "toc_position": {},
   "toc_section_display": true,
   "toc_window_display": false
  },
  "varInspector": {
   "cols": {
    "lenName": 16,
    "lenType": 16,
    "lenVar": 40
   },
   "kernels_config": {
    "python": {
     "delete_cmd_postfix": "",
     "delete_cmd_prefix": "del ",
     "library": "var_list.py",
     "varRefreshCmd": "print(var_dic_list())"
    },
    "r": {
     "delete_cmd_postfix": ") ",
     "delete_cmd_prefix": "rm(",
     "library": "var_list.r",
     "varRefreshCmd": "cat(var_dic_list()) "
    }
   },
   "types_to_exclude": [
    "module",
    "function",
    "builtin_function_or_method",
    "instance",
    "_Feature"
   ],
   "window_display": false
  }
 },
 "nbformat": 4,
 "nbformat_minor": 4
}
