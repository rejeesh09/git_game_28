{
 "cells": [
  {
   "cell_type": "markdown",
   "metadata": {},
   "source": [
    "## Importing Round_4 - parent class of Round_5()"
   ]
  },
  {
   "cell_type": "code",
   "execution_count": 1,
   "metadata": {},
   "outputs": [
    {
     "name": "stdout",
     "output_type": "stream",
     "text": [
      "Writing round_5.py\n"
     ]
    }
   ],
   "source": [
    "%%writefile round_5.py\n",
    "#########################################################################\n",
    "from round_4 import Round_4\n",
    "# Round_4() class is where the fourth round of the game takes place(i.e. round4_play() method in Round_4())\n",
    "# so the round4_play() method has to be called from Round_5 and round5_play() from Round_6 and so on"
   ]
  },
  {
   "cell_type": "markdown",
   "metadata": {},
   "source": [
    "## Other modules"
   ]
  },
  {
   "cell_type": "code",
   "execution_count": 2,
   "metadata": {},
   "outputs": [
    {
     "name": "stdout",
     "output_type": "stream",
     "text": [
      "Appending to round_5.py\n"
     ]
    }
   ],
   "source": [
    "%%writefile -a round_5.py\n",
    "########################################################################\n",
    "import time\n",
    "import sys\n",
    "# sys used in inp_parse_check to exit \n",
    "# sys and time used in follow_logic to print played cards with delay before taking player inp"
   ]
  },
  {
   "cell_type": "markdown",
   "metadata": {},
   "source": [
    "## e. Round_5() class"
   ]
  },
  {
   "cell_type": "code",
   "execution_count": 3,
   "metadata": {
    "code_folding": [
     19
    ]
   },
   "outputs": [
    {
     "name": "stdout",
     "output_type": "stream",
     "text": [
      "Appending to round_5.py\n"
     ]
    }
   ],
   "source": [
    "%%writefile -a round_5.py\n",
    "#########################################################################\n",
    "class Round_5(Round_4):\n",
    "    def __init__(self,hold,custom_deal,tkntr_rt):\n",
    "        self.hold=hold\n",
    "        self.custom_deal=custom_deal\n",
    "        self.tkntr_rt=tkntr_rt\n",
    "        # don't think these arguments to be passed below have to be made self as done above.\n",
    "        super().__init__(self.hold,self.custom_deal,self.tkntr_rt)\n",
    "        # kind of creating an object instance of Round_3() class with the above __init__()\n",
    "        super().round4_play()\n",
    "        # similarly round5_play(to be defined){as well as super().__init__()} \n",
    "        # can be called in __init__() of class Round_6(Round_5) and so on.\n",
    "    \n",
    "    # methods in this class are:\n",
    "    # round5_lead_logic()\n",
    "    # round5_follow_logic()\n",
    "    # round5_play()\n",
    "    \n",
    "\n",
    "# #######################################################################\n",
    "# #round_5() class end ##################################################"
   ]
  }
 ],
 "metadata": {
  "kernelspec": {
   "display_name": "Python 3 (ipykernel)",
   "language": "python",
   "name": "python3"
  },
  "language_info": {
   "codemirror_mode": {
    "name": "ipython",
    "version": 3
   },
   "file_extension": ".py",
   "mimetype": "text/x-python",
   "name": "python",
   "nbconvert_exporter": "python",
   "pygments_lexer": "ipython3",
   "version": "3.10.4"
  },
  "toc": {
   "base_numbering": 1,
   "nav_menu": {},
   "number_sections": true,
   "sideBar": true,
   "skip_h1_title": false,
   "title_cell": "Table of Contents",
   "title_sidebar": "Contents",
   "toc_cell": false,
   "toc_position": {},
   "toc_section_display": true,
   "toc_window_display": false
  },
  "varInspector": {
   "cols": {
    "lenName": 16,
    "lenType": 16,
    "lenVar": 40
   },
   "kernels_config": {
    "python": {
     "delete_cmd_postfix": "",
     "delete_cmd_prefix": "del ",
     "library": "var_list.py",
     "varRefreshCmd": "print(var_dic_list())"
    },
    "r": {
     "delete_cmd_postfix": ") ",
     "delete_cmd_prefix": "rm(",
     "library": "var_list.r",
     "varRefreshCmd": "cat(var_dic_list()) "
    }
   },
   "types_to_exclude": [
    "module",
    "function",
    "builtin_function_or_method",
    "instance",
    "_Feature"
   ],
   "window_display": false
  }
 },
 "nbformat": 4,
 "nbformat_minor": 4
}
