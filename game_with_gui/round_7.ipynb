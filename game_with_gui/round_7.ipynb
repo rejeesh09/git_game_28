{
 "cells": [
  {
   "cell_type": "markdown",
   "metadata": {},
   "source": [
    "## Importing Round_6 - parent class of Round_7()"
   ]
  },
  {
   "cell_type": "code",
   "execution_count": 7,
   "metadata": {},
   "outputs": [
    {
     "name": "stdout",
     "output_type": "stream",
     "text": [
      "Overwriting round_7.py\n"
     ]
    }
   ],
   "source": [
    "%%writefile round_7.py\n",
    "#########################################################################\n",
    "from round_6 import Round_6\n",
    "# Round_6() class is where the sixth round of the game takes place(i.e. round6_play() method in Round_6())\n",
    "# so the round6_play() method has to be called from Round_7 and round7_play() from Round_8."
   ]
  },
  {
   "cell_type": "markdown",
   "metadata": {},
   "source": [
    "## Other modules"
   ]
  },
  {
   "cell_type": "code",
   "execution_count": 8,
   "metadata": {},
   "outputs": [
    {
     "name": "stdout",
     "output_type": "stream",
     "text": [
      "Appending to round_7.py\n"
     ]
    }
   ],
   "source": [
    "%%writefile -a round_7.py\n",
    "########################################################################\n",
    "import time\n",
    "import sys\n",
    "# sys used in inp_parse_check to exit \n",
    "# sys and time used in follow_logic to print played cards with delay before taking player inp"
   ]
  },
  {
   "cell_type": "markdown",
   "metadata": {},
   "source": [
    "## e. Round_7() class"
   ]
  },
  {
   "cell_type": "code",
   "execution_count": 9,
   "metadata": {
    "code_folding": [
     19
    ]
   },
   "outputs": [
    {
     "name": "stdout",
     "output_type": "stream",
     "text": [
      "Appending to round_7.py\n"
     ]
    }
   ],
   "source": [
    "%%writefile -a round_7.py\n",
    "#########################################################################\n",
    "class Round_7(Round_6):\n",
    "    def __init__(self,hold,custom_deal,tkntr_rt):\n",
    "        self.hold=hold\n",
    "        self.custom_deal=custom_deal\n",
    "        self.tkntr_rt=tkntr_rt\n",
    "        # don't think these arguments to be passed below have to be made self as done above.\n",
    "        super().__init__(self.hold,self.custom_deal,self.tkntr_rt)\n",
    "        # kind of creating an object instance of Round_5() class with the above __init__()\n",
    "        super().round6_play()\n",
    "        # similarly round7_play(to be defined){as well as super().__init__()}\n",
    "        # can be called in __init__() of class Round_8(Round_7).\n",
    "    \n",
    "    # methods in this class are:\n",
    "    # round7_lead_logic()\n",
    "    # round7_follow_logic()\n",
    "    # round7_play()\n",
    "    \n",
    "\n",
    "# #######################################################################\n",
    "# #round_7() class end ##################################################"
   ]
  }
 ],
 "metadata": {
  "kernelspec": {
   "display_name": "Python 3 (ipykernel)",
   "language": "python",
   "name": "python3"
  },
  "language_info": {
   "codemirror_mode": {
    "name": "ipython",
    "version": 3
   },
   "file_extension": ".py",
   "mimetype": "text/x-python",
   "name": "python",
   "nbconvert_exporter": "python",
   "pygments_lexer": "ipython3",
   "version": "3.10.4"
  },
  "toc": {
   "base_numbering": 1,
   "nav_menu": {},
   "number_sections": true,
   "sideBar": true,
   "skip_h1_title": false,
   "title_cell": "Table of Contents",
   "title_sidebar": "Contents",
   "toc_cell": false,
   "toc_position": {},
   "toc_section_display": true,
   "toc_window_display": false
  },
  "varInspector": {
   "cols": {
    "lenName": 16,
    "lenType": 16,
    "lenVar": 40
   },
   "kernels_config": {
    "python": {
     "delete_cmd_postfix": "",
     "delete_cmd_prefix": "del ",
     "library": "var_list.py",
     "varRefreshCmd": "print(var_dic_list())"
    },
    "r": {
     "delete_cmd_postfix": ") ",
     "delete_cmd_prefix": "rm(",
     "library": "var_list.r",
     "varRefreshCmd": "cat(var_dic_list()) "
    }
   },
   "types_to_exclude": [
    "module",
    "function",
    "builtin_function_or_method",
    "instance",
    "_Feature"
   ],
   "window_display": false
  }
 },
 "nbformat": 4,
 "nbformat_minor": 4
}
