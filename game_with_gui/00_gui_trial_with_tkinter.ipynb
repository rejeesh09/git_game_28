{
 "cells": [
  {
   "cell_type": "markdown",
   "metadata": {},
   "source": [
    "## button"
   ]
  },
  {
   "cell_type": "code",
   "execution_count": 1,
   "metadata": {},
   "outputs": [],
   "source": [
    "import tkinter as tk\n",
    "root=tk.Tk()\n",
    "root.title(\"Button widget\")\n",
    "button = tk.Button(root, width=25, text='click to close', command=root.destroy)\n",
    "button.pack()\n",
    "root.mainloop()"
   ]
  },
  {
   "cell_type": "markdown",
   "metadata": {},
   "source": [
    "## canvas"
   ]
  },
  {
   "cell_type": "code",
   "execution_count": 2,
   "metadata": {},
   "outputs": [],
   "source": [
    "import tkinter as tk\n",
    "rt=tk.Tk()\n",
    "rt.title('Canvas widget')\n",
    "c = tk.Canvas(rt, width=1280, height=720)\n",
    "c.pack()\n",
    "canvas_height=720\n",
    "canvas_width=1200\n",
    "y = int(canvas_height / 2) \n",
    "c.create_line(80, y, canvas_width, y ) \n",
    "c.create_line(640, 20, 640, 700)\n",
    "rt.mainloop()"
   ]
  },
  {
   "cell_type": "markdown",
   "metadata": {},
   "source": [
    "## frame"
   ]
  },
  {
   "cell_type": "code",
   "execution_count": 3,
   "metadata": {},
   "outputs": [],
   "source": [
    "import tkinter as tk\n",
    "root = tk.Tk() \n",
    "frame = tk.Frame(root) \n",
    "frame.pack() \n",
    "bottomframe = tk.Frame(root) \n",
    "bottomframe.pack(side=tk.BOTTOM) \n",
    "redbutton = tk.Button(frame, text = 'Red', fg ='red') \n",
    "redbutton.pack(side=tk.LEFT) \n",
    "greenbutton = tk.Button(frame, text = 'Green', fg='green') \n",
    "greenbutton.pack(side=tk.LEFT) \n",
    "bluebutton = tk.Button(bottomframe, text ='Blue', fg ='blue') \n",
    "bluebutton.pack(side=tk.TOP) \n",
    "blackbutton = tk.Button(bottomframe, text ='Black', fg ='black', command=root.destroy)\n",
    "blackbutton.pack(side=tk.BOTTOM) \n",
    "root.mainloop() "
   ]
  },
  {
   "cell_type": "markdown",
   "metadata": {},
   "source": [
    "## checkbutton"
   ]
  },
  {
   "cell_type": "code",
   "execution_count": 4,
   "metadata": {},
   "outputs": [
    {
     "data": {
      "text/plain": [
       "0"
      ]
     },
     "execution_count": 4,
     "metadata": {},
     "output_type": "execute_result"
    }
   ],
   "source": [
    "import tkinter as tk\n",
    "root=tk.Tk()\n",
    "var1=tk.IntVar()\n",
    "cb1=tk.Checkbutton(root,text='yes',variable=var1)\n",
    "cb1.grid(row=0)\n",
    "root.mainloop()\n",
    "var1.get()"
   ]
  },
  {
   "cell_type": "markdown",
   "metadata": {},
   "source": [
    "## entry"
   ]
  },
  {
   "cell_type": "code",
   "execution_count": 5,
   "metadata": {},
   "outputs": [],
   "source": [
    "import tkinter as tk\n",
    "r=tk.Tk()\n",
    "tk.Label(r,text='first').grid(row=0)\n",
    "tk.Label(r,text='second').grid(row=1)\n",
    "e1=tk.Entry(r)\n",
    "e2=tk.Entry(r)\n",
    "e1.grid(row=0, column=1)\n",
    "e2.grid(row=1, column=1)\n",
    "r.mainloop()\n"
   ]
  },
  {
   "cell_type": "code",
   "execution_count": 6,
   "metadata": {},
   "outputs": [],
   "source": [
    "# help(e1)"
   ]
  },
  {
   "cell_type": "markdown",
   "metadata": {},
   "source": [
    "## label"
   ]
  },
  {
   "cell_type": "markdown",
   "metadata": {},
   "source": [
    "to display text"
   ]
  },
  {
   "cell_type": "code",
   "execution_count": 7,
   "metadata": {},
   "outputs": [],
   "source": [
    "import tkinter as tk\n",
    "r=tk.Tk()\n",
    "r.geometry('400x400')\n",
    "la=tk.Label(r,text='J'+'\\u2665', fg='red')\n",
    "la.pack()\n",
    "r.mainloop()"
   ]
  },
  {
   "cell_type": "markdown",
   "metadata": {},
   "source": [
    "to display image - use the pillow module - PIL"
   ]
  },
  {
   "cell_type": "code",
   "execution_count": null,
   "metadata": {},
   "outputs": [],
   "source": [
    "import tkinter as tk\n",
    "from PIL import Image, ImageTk\n",
    "r=tk.Tk()\n",
    "r.geometry('400x400')\n",
    "la=tk.Label(r,text='J'+'\\u2665', fg='red')\n",
    "la.pack()\n",
    "im=Image.open('tib_flag.jpg')\n",
    "im1=im.resize((200,200))\n",
    "im2=ImageTk.PhotoImage(im1)\n",
    "\n",
    "la2=tk.Label(r,image=im2)\n",
    "la2.pack()\n",
    "r.mainloop()"
   ]
  },
  {
   "cell_type": "code",
   "execution_count": null,
   "metadata": {},
   "outputs": [],
   "source": [
    "# help(im.resize)"
   ]
  },
  {
   "cell_type": "code",
   "execution_count": null,
   "metadata": {},
   "outputs": [],
   "source": [
    "# help(tk.Label)"
   ]
  },
  {
   "cell_type": "code",
   "execution_count": null,
   "metadata": {},
   "outputs": [],
   "source": [
    "# help(Image)"
   ]
  },
  {
   "cell_type": "code",
   "execution_count": null,
   "metadata": {},
   "outputs": [],
   "source": [
    "# help(ImageTk)"
   ]
  },
  {
   "cell_type": "markdown",
   "metadata": {},
   "source": [
    "## menubutton"
   ]
  },
  {
   "cell_type": "code",
   "execution_count": null,
   "metadata": {},
   "outputs": [],
   "source": [
    "import tkinter as tk\n",
    "rt = tk.Tk() \n",
    "rt.geometry('400x400')\n",
    "mub = tk.Menubutton(rt, text = 'Menu') \n",
    "mub.grid() \n",
    "mu = tk.Menu(mub, tearoff = 0 ) \n",
    "mub['men'] = mu # m, me, men, menu works as place_holder for index\n",
    "cVar = tk.IntVar() \n",
    "aVar = tk.IntVar() \n",
    "mu.add_checkbutton(label ='Contact', variable = cVar ) \n",
    "mu.add_checkbutton(label = 'About', variable = aVar ) \n",
    "mub.pack()\n",
    "rt.mainloop() "
   ]
  },
  {
   "cell_type": "code",
   "execution_count": null,
   "metadata": {},
   "outputs": [],
   "source": [
    "help(mb.menu)"
   ]
  },
  {
   "cell_type": "code",
   "execution_count": null,
   "metadata": {},
   "outputs": [],
   "source": [
    "# help(dir)"
   ]
  },
  {
   "cell_type": "code",
   "execution_count": null,
   "metadata": {},
   "outputs": [],
   "source": [
    "help(tk.IntVar)\n",
    "# IntVar(), StringVar(), DoubleVar(), BooleanVar() etc are classes in tkinter module. \n",
    "# used for handling widget inputs or variables. \n",
    "# have methods like get(), set(), trace() etc."
   ]
  },
  {
   "cell_type": "code",
   "execution_count": null,
   "metadata": {},
   "outputs": [],
   "source": [
    "help(tk.Button.grid)"
   ]
  },
  {
   "cell_type": "code",
   "execution_count": null,
   "metadata": {},
   "outputs": [],
   "source": [
    "import tkinter as tk\n",
    "rt=tk.Tk()\n",
    "rt.geometry('1600x900')\n",
    "var1=tk.StringVar()\n",
    "var1.set(\"hello there\")\n",
    "var2='hi'\n",
    "def message():\n",
    "    global bt1\n",
    "    lb1=tk.Label(rt, text='Hello label')\n",
    "    bt1.pack_forget()\n",
    "    lb1.pack()\n",
    "bt1=tk.Button(rt, textvariable=var1, command=message)\n",
    "bt1.pack()\n",
    "\n",
    "rt.mainloop()"
   ]
  },
  {
   "cell_type": "code",
   "execution_count": null,
   "metadata": {},
   "outputs": [],
   "source": [
    "help(rt.mainloop)"
   ]
  },
  {
   "cell_type": "code",
   "execution_count": null,
   "metadata": {},
   "outputs": [],
   "source": [
    "dir(tk.Button.text)"
   ]
  },
  {
   "cell_type": "code",
   "execution_count": null,
   "metadata": {},
   "outputs": [],
   "source": [
    "\n",
    "from tkinter import * \n",
    "root = Tk() \n",
    "root.geometry(\"300x150\") \n",
    "  \n",
    "w = Label(root, text ='GeeksForGeeks', font = \"50\")  \n",
    "w.pack() \n",
    "  \n",
    "frame = Frame(root) \n",
    "frame.pack() \n",
    "  \n",
    "bottomframe = Frame(root) \n",
    "bottomframe.pack( side = BOTTOM ) \n",
    "\n",
    "leftframe = Frame(root)\n",
    "leftframe.pack( side = LEFT)\n",
    "\n",
    "rightframe = Frame(root)\n",
    "rightframe.pack( side = RIGHT)\n",
    "  \n",
    "b1_button = Button(frame, text =\"Geeks1\", fg =\"red\") \n",
    "b1_button.pack( side = LEFT) \n",
    "  \n",
    "b2_button = Button(frame, text =\"Geeks2\", fg =\"brown\") \n",
    "b2_button.pack( side = LEFT ) \n",
    "  \n",
    "b3_button = Button(frame, text =\"Geeks3\", fg =\"blue\") \n",
    "b3_button.pack( side = LEFT ) \n",
    "  \n",
    "b4_button = Button(leftframe, text =\"Geeks4\", fg =\"green\") \n",
    "b4_button.pack( side = BOTTOM) \n",
    "  \n",
    "b5_button = Button(leftframe, text =\"Geeks5\", fg =\"green\") \n",
    "b5_button.pack( side = BOTTOM) \n",
    "  \n",
    "b6_button = Button(rightframe, text =\"Geeks6\", fg =\"green\") \n",
    "b6_button.pack( side = RIGHT) \n",
    "\n",
    "b7_button = Button(rightframe, text =\"Geeks7\", fg =\"green\") \n",
    "b7_button.pack( side = RIGHT) \n",
    "  \n",
    "root.mainloop() \n"
   ]
  },
  {
   "cell_type": "code",
   "execution_count": null,
   "metadata": {},
   "outputs": [],
   "source": [
    "# help(tk.Message)"
   ]
  },
  {
   "cell_type": "code",
   "execution_count": null,
   "metadata": {},
   "outputs": [],
   "source": [
    "import tkinter as tk\n",
    "\n",
    "rt=tk.Tk()\n",
    "rt.geometry('1600x900')\n",
    "rt.configure(bg='black')\n",
    "\n",
    "fr1=tk.Frame(rt)\n",
    "fr1.pack(side=tk.TOP, pady=300)\n",
    "\n",
    "name_var=tk.StringVar()\n",
    "global name, lab1, ent1, but1\n",
    "\n",
    "def clear():\n",
    "    fr1.pack_forget()\n",
    "\n",
    "def save_name():\n",
    "    name=name_var.get()\n",
    "#     print('name is :',name)\n",
    "    lab1.grid_forget()\n",
    "    ent1.grid_forget()\n",
    "    but1.grid_forget()\n",
    "    mes1=tk.Label(fr1,text='Name entered is: '+name,font=('GNU Unifont',30))\n",
    "    mes1.pack()\n",
    "    but2=tk.Button(fr1,text='Clear',font=('GNU Unifont',30),command=clear)\n",
    "    but2.pack()\n",
    "\n",
    "lab1=tk.Label(fr1,text='Name:',font=('GNU Unifont',20))\n",
    "ent1=tk.Entry(fr1,textvariable=name_var,font=('GNU Unifont',20))\n",
    "but1=tk.Button(fr1,text='Enter', font=('GNU Unifont',20), command=save_name)\n",
    "\n",
    "lab1.grid(row=0,column=0,sticky='')\n",
    "ent1.grid(row=0,column=1,sticky='')\n",
    "but1.grid(row=1,column=1,sticky='')\n",
    "\n",
    "# rt.update_idletasks()\n",
    "# rt.update()\n",
    "rt.mainloop()"
   ]
  },
  {
   "cell_type": "code",
   "execution_count": 1,
   "metadata": {},
   "outputs": [
    {
     "name": "stdout",
     "output_type": "stream",
     "text": [
      "hello daught\n",
      "bye  asd\n",
      "bye daught 2\n"
     ]
    }
   ],
   "source": [
    "import tkinter as tk\n",
    "rt=tk.Tk()\n",
    "rt.geometry('1600x900')\n",
    "rt.title('First')\n",
    "rt.configure(bg='black')\n",
    "\n",
    "fr0=tk.Frame(rt)\n",
    "fr0.pack(side=tk.TOP,pady=200)\n",
    "\n",
    "class parent():\n",
    "    def __init__(self,rt):\n",
    "        self.rt=rt\n",
    "        print('hello daught')        \n",
    "\n",
    "        fr0.pack_forget()\n",
    "        fr1=tk.Frame(self.rt)\n",
    "        fr1.pack(side=tk.TOP,pady=300)\n",
    "        \n",
    "        name_var=tk.StringVar()\n",
    "        some_var=tk.IntVar()\n",
    "\n",
    "        def clear_frame():\n",
    "            fr1.pack_forget()\n",
    "            some_var.set(1)\n",
    "        def print_mess():\n",
    "            global name\n",
    "            name=name_var.get()\n",
    "            lab1.grid_forget()\n",
    "            ent1.grid_forget()\n",
    "            bt1.grid_forget()\n",
    "            lab2=tk.Label(fr1,text=\"hello \"+name)\n",
    "            lab2.grid(row=0,column=0)\n",
    "            but2=tk.Button(fr1,text='Clear frame',command=clear_frame)\n",
    "            but2.grid(row=1,column=0)\n",
    "            \n",
    "\n",
    "        lab1=tk.Label(fr1,text='enter ur name:')\n",
    "        ent1=tk.Entry(fr1,textvariable=name_var)\n",
    "        lab1.grid(row=0,column=0)\n",
    "        ent1.grid(row=0,column=1)\n",
    "        bt1=tk.Button(fr1,text='click for message',command=print_mess)\n",
    "        bt1.grid(row=1,columnspan=2)\n",
    "        \n",
    "        \n",
    "#         self.rt.update_idletasks()\n",
    "        \n",
    "        fr1.wait_variable(some_var)\n",
    "        print('bye ',name)\n",
    "        \n",
    "    def another_method(self,rt):\n",
    "        self.rt=rt\n",
    "        fr0.pack_forget()\n",
    "        fr_am=tk.Frame(self.rt)\n",
    "        fr_am.pack(side=tk.TOP,pady=200)\n",
    "        lab_am=tk.Label(fr_am,text=\"Running in 'another_method'\")\n",
    "        lab_am.pack(pady=10)\n",
    "\n",
    "#         self.rt.update_idletasks()\n",
    "        print('bye daught 2')\n",
    "    \n",
    "class child(parent):\n",
    "    def __init__(self,rt):\n",
    "        self.rt=rt\n",
    "#         print('hello, let me call dad')               \n",
    "        super().__init__(self.rt)\n",
    "        super().another_method(self.rt)\n",
    "        \n",
    "    def loop(self,rt):\n",
    "        self.rt=rt\n",
    "        self.rt.mainloop()\n",
    "\n",
    "\n",
    "def call_daught():\n",
    "    obj=child(rt)\n",
    "#     obj.loop(rt)\n",
    "bt0=tk.Button(fr0,text='click to call daught',command=call_daught)\n",
    "bt0.pack()\n",
    "\n",
    "rt.mainloop()\n"
   ]
  },
  {
   "cell_type": "code",
   "execution_count": 2,
   "metadata": {},
   "outputs": [
    {
     "name": "stdout",
     "output_type": "stream",
     "text": [
      "Help on function wait_window in module tkinter:\n",
      "\n",
      "wait_window(self, window=None)\n",
      "    Wait until a WIDGET is destroyed.\n",
      "    \n",
      "    If no parameter is given self is used.\n",
      "\n"
     ]
    }
   ],
   "source": [
    "import tkinter as tk\n",
    "help(tk.Button.wait_window)"
   ]
  },
  {
   "cell_type": "code",
   "execution_count": 58,
   "metadata": {},
   "outputs": [],
   "source": [
    "# help(rt.update_idletasks)"
   ]
  },
  {
   "cell_type": "code",
   "execution_count": 50,
   "metadata": {},
   "outputs": [],
   "source": [
    "# print(name)"
   ]
  },
  {
   "cell_type": "code",
   "execution_count": 37,
   "metadata": {},
   "outputs": [],
   "source": [
    "# help(tk.Label.grid)"
   ]
  }
 ],
 "metadata": {
  "kernelspec": {
   "display_name": "Python 3 (ipykernel)",
   "language": "python",
   "name": "python3"
  },
  "language_info": {
   "codemirror_mode": {
    "name": "ipython",
    "version": 3
   },
   "file_extension": ".py",
   "mimetype": "text/x-python",
   "name": "python",
   "nbconvert_exporter": "python",
   "pygments_lexer": "ipython3",
   "version": "3.10.6"
  },
  "toc": {
   "base_numbering": 1,
   "nav_menu": {},
   "number_sections": true,
   "sideBar": true,
   "skip_h1_title": false,
   "title_cell": "Table of Contents",
   "title_sidebar": "Contents",
   "toc_cell": false,
   "toc_position": {},
   "toc_section_display": true,
   "toc_window_display": true
  },
  "varInspector": {
   "cols": {
    "lenName": 16,
    "lenType": 16,
    "lenVar": 40
   },
   "kernels_config": {
    "python": {
     "delete_cmd_postfix": "",
     "delete_cmd_prefix": "del ",
     "library": "var_list.py",
     "varRefreshCmd": "print(var_dic_list())"
    },
    "r": {
     "delete_cmd_postfix": ") ",
     "delete_cmd_prefix": "rm(",
     "library": "var_list.r",
     "varRefreshCmd": "cat(var_dic_list()) "
    }
   },
   "types_to_exclude": [
    "module",
    "function",
    "builtin_function_or_method",
    "instance",
    "_Feature"
   ],
   "window_display": false
  }
 },
 "nbformat": 4,
 "nbformat_minor": 4
}
