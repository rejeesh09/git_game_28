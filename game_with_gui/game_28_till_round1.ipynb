{
 "cells": [
  {
   "cell_type": "code",
   "execution_count": 3,
   "metadata": {},
   "outputs": [],
   "source": [
    "## Earlier main code - now serves as documentation"
   ]
  },
  {
   "cell_type": "code",
   "execution_count": 4,
   "metadata": {
    "scrolled": true,
    "tags": [
     "zz"
    ]
   },
   "outputs": [],
   "source": [
    "\n",
    "# from round_2 import Round_2\n",
    "\n",
    "    # below are the modules/classes that are being implicitly or otherwise called:\n",
    "    # (this was done to reduce current code size\n",
    "    # not sure if this was necessary or is the proper implementation)\n",
    "    ########################################################################\n",
    "\n",
    "    # 1)......... from cards import Cards\n",
    "    # the class - Cards() takes as argument the card name in alphanumeric-unicode combo and \n",
    "    # creates a card object\n",
    "    # All attributes of a card object can be accessed via methods such as .point(), .rank(), .value(),\n",
    "    # .suit(), .form(), .show() and .colour()\n",
    "    ########################################################################\n",
    "\n",
    "    # 2)......... from deck import Deck\n",
    "    # the class - Deck() takes as argument a dictionary of the 32 card objects. \n",
    "    \n",
    "    # a dictn of card objects (dictn_of_cards[j]=Cards(cards_no_colr[j])),\n",
    "    # is created and passed as argument to Deck() class through the __init__() of child class Prepare_game()\n",
    "    \n",
    "    # This class deals the cards and gets the hands ready for first and second rounds of bidding.\n",
    "    # It has methods .obj_deal(), .obj_sort_half_hands(), .obj_display_half_hands(), \n",
    "    # .obj_sort_hands(), .obj_display_hands(), .obj_induvidual_dictns() and .obj_half_dictns()\n",
    "    # All the above methods are also called through __init__() in child class Prepare_game()\n",
    "    ########################################################################\n",
    "\n",
    "    # 3)......... from prepare_game import Prepare_game\n",
    "    # the class - Prepare_game(Deck) takes as argument the boolean variale, hold, which is passed through the \n",
    "    # __init__() of it's child class Round_1().\n",
    "    # Apart from some list and dictn variables that are created in it's __init__(), \n",
    "    # it has methods for half bidding and setting trump\n",
    "    #-----------------------------------------------------------------------\n",
    "    # method for full bidding is yet to be written* - this is now written\n",
    "    ########################################################################\n",
    "\n",
    "    # 4)......... from round_1 import Round_1\n",
    "    # the class - Round_1(Prepare_game) passes the hold variable to Prepare_game() through __init__()\n",
    "    # It has methods, inp_parse_check(), round1_lead_logic(), round1_follow_logic() and round1_play()\n",
    "    ########################################################################\n",
    "\n",
    "    # 5)......... from round_2 import Round_2\n",
    "    # the class - Round_2(Round_1) passes the hold variable to Round_1() through __init__()\n",
    "    # it calls the round1_play() method of Round_1() as well in its __init__()\n",
    "    #-----------------------------------------------------------------------\n",
    "    # its methods are yet to be written\n",
    "    ########################################################################\n",
    "\n",
    "# obj=Round_2(hold=False,custom_deal=False) # edit hand in custom_card_dealer_function\n",
    "\n",
    "    # pass hold=True to debug, runs previous hand again - this value is passed on to \n",
    "    # bid_half_hand() method in prepare_game(), to repeat the bid_turn_index as well\n",
    "    # pass custom_deal=True to run a custom dealt hand and turn_index, desired hand to be edited in\n",
    "    # custom_card_dealer_function.ipynb file\n",
    "    # ?to obj_deal() method in deck() to repeat the last obj_deal_lst\n",
    "    # the last deal of cards is dumped to last_deal.txt (file opened in binary mode to read and write), \n",
    "    # and loaded using pickle module\n",
    "    # the same with starting bid_turn_index. but it is stored in another txt file\n",
    "    # need to store all critical data in a single file and load from it as and when req.\n",
    "\n",
    "    # round1_play() is called in __init__() of Round_2()\n",
    "    ########################################################################\n",
    "\n",
    "    # Concerns\n",
    "    #.......................................................................\n",
    "\n",
    "    # bid_full_hand needs to be refined for different cases of the non-trump cards available\n",
    "    # eg if there are 4 trumps with J and the other 4 are J and 9 of two suits\n",
    "    # or with 5 trump and another J, 9 and A of the same suit in hand \n",
    "    # and many more like that..\n",
    "    \n",
    "    # follow_logic() in round_1 needs to give player finer control over card played if the player is also\n",
    "    # the highest_bidder, especially in rounds of trump suit\n",
    "    \n",
    "    # calling a thani or 28 while bidding\n",
    "    \n",
    "    # looks like atleast from round2 some structured decision making might be in order\n",
    "    \n",
    "    # entering player name eveytime, even for redeal for no trump\n",
    "\n",
    "    # the method display_hands() is only for debugging purposes and maybe finally after the game also\n",
    "    #    it is needed. it now has an additional bool arg, depending on which original or updated hands\n",
    "    #    are displayed. The parameter can be changed in half_bid in prepare game, where disp_hands is \n",
    "    #    called.\n",
    "    \n",
    "    # can J be let off before a round of the suit is played? \n",
    "\n",
    "    ########################################################################\n",
    "\n",
    "    # Tips\n",
    "    #.......................................................................\n",
    "\n",
    "    # dir(name_of_object) to see all attributes \n",
    "    # Use Find and Replace in Edit menu - \n",
    "    # find '#print('\\nreached' and replace it w/o the '#' to get back line checkpoints for debugging\n",
    "\n",
    "    # magic command %%writefile is now being used to directly write all modules as .py file\n",
    "    # the first code cell is written to the file (%%writefile filename) and successive code cells \n",
    "    # are appended to that file (%%writefile -a filename).\n",
    "\n",
    "    # git \n",
    "    # do git status and see what is not committed\n",
    "    # after testing edits, do git commit, else git add and then commit for new files\n",
    "    # do git diff file_name to see differences before commit\n",
    "    # git push and pull for syncing with remote\n",
    "    # git remote -v to see all the remote repositories set up(common github.com)\n",
    "    # git push origin master (origin is the default name given to the -\n",
    "    # remote repository(here on github). master is the local repo. \n",
    "    # github username:rejeesh09, password:k***s**u1*8*; github might req 2factor authentication in future.\n",
    "    # to push to gitlab: git push gitlab master; username:rejeesh09; pwd:g*tl*bk***sh*u\n",
    "    # to add a remote repo; first create the repo(empty project) on the remote(github, gitlab, etc.) copy \n",
    "    # the url link and do git add remote remote_name remote_url (where remote_name could be 'origin' or \n",
    "    # 'gitlab' or whatever you may choose to give and remote_url will be the url link copied from the \n",
    "    # remote server)\n",
    "    # other git: status, log, diff..\n",
    "    # git init for a new git directory  \n"
   ]
  },
  {
   "cell_type": "markdown",
   "metadata": {},
   "source": [
    "## Main code"
   ]
  },
  {
   "cell_type": "code",
   "execution_count": 3,
   "metadata": {
    "scrolled": true
   },
   "outputs": [
    {
     "name": "stdout",
     "output_type": "stream",
     "text": [
      "\n",
      "No hold or no custom\n",
      "\n",
      "All hands are good to go\n",
      "\n",
      "\n",
      "Ras: \n",
      "8♠ 7♣ \u001b[31mK♦\u001b[0m \u001b[31m9♦\u001b[0m \n",
      "\n",
      "Oppo_right: \n",
      "Q♠ 10♠ \u001b[31mQ♥\u001b[0m Q♣ \n",
      "\n",
      "Mate: \n",
      "J♠ 8♣ J♣ \u001b[31mQ♦\u001b[0m \n",
      "\n",
      "Oppo_left: \n",
      "\u001b[31m8♥\u001b[0m \u001b[31mK♥\u001b[0m \u001b[31m10♥\u001b[0m \u001b[31m7♦\u001b[0m \n",
      "\n",
      "\n",
      "Oppo_right calls 14\n",
      "\n",
      "Mate calls 15\n",
      "\n",
      "Oppo_left passes\n",
      "\n",
      "Oppo_right passes\n",
      "\n",
      "Mate made the highest bid: 15\n",
      "\n",
      "bid_counter value:  6\n",
      "\n",
      "Trump card set by Mate\n",
      "\n",
      "\n",
      "Ras: \n",
      "8♠ 9♠ 7♣ A♣ 9♣ \u001b[31mK♦\u001b[0m \u001b[31m9♦\u001b[0m \u001b[31mJ♦\u001b[0m \n",
      "\n",
      "Oppo_right: \n",
      "7♠ Q♠ 10♠ \u001b[31m7♥\u001b[0m \u001b[31mQ♥\u001b[0m Q♣ 10♣ \u001b[31m8♦\u001b[0m \n",
      "\n",
      "Mate: \n",
      "K♠ J♠ \u001b[31mA♥\u001b[0m \u001b[31mJ♥\u001b[0m 8♣ J♣ \u001b[31mQ♦\u001b[0m \u001b[31mA♦\u001b[0m \n",
      "\n",
      "Oppo_left: \n",
      "A♠ \u001b[31m8♥\u001b[0m \u001b[31mK♥\u001b[0m \u001b[31m10♥\u001b[0m \u001b[31m9♥\u001b[0m K♣ \u001b[31m7♦\u001b[0m \u001b[31m10♦\u001b[0m \n",
      "\n",
      "\n",
      "bid2_counter value:  3\n",
      "\n",
      "No one called 21 or above, so trump set by Mate stays for the call of 15 \n",
      "\n",
      "\n",
      "Oppo_right: \u001b[31m8♦\u001b[0m\n",
      "\n",
      "Mate: \u001b[31mQ♦\u001b[0m\n",
      "\n",
      "Oppo_left: \u001b[31m7♦\u001b[0m\n",
      "\n",
      "Ras: \u001b[31mJ♦\u001b[0m\n",
      "\n",
      "                    Mate:\u001b[31mQ♦\u001b[0m\n",
      "Oppo_left:\u001b[31m7♦\u001b[0m                      Oppo_right:\u001b[31m8♦\u001b[0m\n",
      "                    Ras: \u001b[31mJ♦\u001b[0m\n",
      "\n",
      "Round1 - starting from Oppo_right, counter_clockwise:  \u001b[31m8♦\u001b[0m \u001b[31mQ♦\u001b[0m \u001b[31m7♦\u001b[0m \u001b[31mJ♦\u001b[0m \n",
      "\n",
      "round2_lead_index:  0\n",
      "\n",
      "Points scored - Your_team:3 , Oppo_team:0\n"
     ]
    }
   ],
   "source": [
    "# the main code is now partly gui based\n",
    "\n",
    "# Deck() in deck.py module is the parent class and all subsequent level children inherit from it\n",
    "# from cards import Cards()\n",
    "# import widget_manager as wm (Widget() class defined in widget_manager.py)\n",
    "# the above two lines in deck.py imports other independent classed Cards() and Widgets()\n",
    "# apart from these, other in-built python modules are also imported\n",
    "\n",
    "# the widget_manager module is imported as wm in the module deck.py and an \n",
    "# object gui_handle of the Widgets() class is created there.\n",
    "# all the specific widget functions are available as methods of this object gui_handle\n",
    "\n",
    "# the below two lines of the earlier main code is now placed inside a tkinter obj mainloop\n",
    "    # from round_2 import Round_2   \n",
    "    # obj=Round_2(hold=False,custom_deal=False,tkntr_rt=rt_0)\n",
    "\n",
    "# detailed(though redundant) documentation(i.e. comments) is being attempted to avoid unfamiliarity \n",
    "# with the code, when looked at after a break(an aft-thought from past experiences).\n",
    "\n",
    "\n",
    "import tkinter as tk\n",
    "\n",
    "rt_0=tk.Tk()\n",
    "# rt_0 serves as the root gui window object\n",
    "\n",
    "rt_0.geometry('1600x900')\n",
    "rt_0.title('Game window')\n",
    "rt_0.configure(bg='black')\n",
    "\n",
    "fr0=tk.Frame(rt_0)\n",
    "# a frame widget is created in the root window which would, later in the code, \n",
    "# display the start game button(but0)\n",
    "fr0.pack(side=tk.TOP, pady=300)\n",
    "# the widget has to be aligned(.pack or .grid or .place) to be seen in the window\n",
    "\n",
    "def game():\n",
    "    global obj\n",
    "    fr0.pack_forget()\n",
    "    \n",
    "    from round_2 import Round_2 \n",
    "    # the above line runs the whole of round_2 module(round_2.py) and imports the Round_2 class \n",
    "    # from the module\n",
    "    \n",
    "    obj=Round_2(hold=False,custom_deal=False,tkntr_rt=rt_0)\n",
    "    # an object of Round_2 class is created and some arguments are passed.\n",
    "    \n",
    "    # hold=True if last hand is to be repeated, custom_deal=True if a tailored hand is to be dealt\n",
    "    # open custom_card_dealer_fuction.ipynb and key in the hands as required. When run, the custom \n",
    "    # deal is stored in custom_deal_lst which will be used by the game code.\n",
    "    \n",
    "but0=tk.Button(fr0,text='Start game',font=('GNU Unifont',30),command=game)\n",
    "but0.focus()\n",
    "but0.pack()\n",
    "\n",
    "rt_0.mainloop()\n",
    "\n",
    "################## attention #################################\n",
    "# have to provide documentation for all variables and methods used, which can be \n",
    "# accessed via say help function ... is this doable?\n",
    "# diff bet turn_index and turn_in_round_index"
   ]
  },
  {
   "cell_type": "code",
   "execution_count": 3,
   "metadata": {},
   "outputs": [],
   "source": [
    "# obj.obj_dictn_of_cards_grouped"
   ]
  },
  {
   "cell_type": "code",
   "execution_count": 9,
   "metadata": {},
   "outputs": [],
   "source": [
    "# obj.suit_dictn"
   ]
  },
  {
   "cell_type": "code",
   "execution_count": 8,
   "metadata": {},
   "outputs": [],
   "source": [
    "# type(obj.suit_dictn[obj.trump_card.suit()])"
   ]
  },
  {
   "cell_type": "code",
   "execution_count": 9,
   "metadata": {},
   "outputs": [],
   "source": [
    "# obj.check_val"
   ]
  },
  {
   "cell_type": "markdown",
   "metadata": {},
   "source": [
    "## trial n error"
   ]
  },
  {
   "cell_type": "code",
   "execution_count": null,
   "metadata": {},
   "outputs": [],
   "source": [
    "# import tkinter as tk\n",
    "\n",
    "# class Card_button():\n",
    "#     def __init__(self,window,card_obj):\n",
    "#         self.but=tk.Button(window,text=card_obj.form(),fg=card_obj.colour(),font=('GNU Unifont',15))\n",
    "#         self.but.pack()\n",
    "        \n",
    "# rt=tk.Tk()\n",
    "# rt.geometry('1600x900')\n",
    "# rt.configure(bg='black')\n",
    "\n",
    "# but1=Card_button(rt,obj.trump_card)\n",
    "# # but1.pack()\n",
    "\n",
    "# rt.mainloop()"
   ]
  },
  {
   "cell_type": "code",
   "execution_count": null,
   "metadata": {},
   "outputs": [],
   "source": [
    "# for i in range(4):\n",
    "#     for j in obj.obj_deal_lst_copy[i]:\n",
    "#         print(j.show(),end=' ') \n",
    "#     print('\\n')\n",
    "# obj.obj_deal_lst"
   ]
  },
  {
   "cell_type": "code",
   "execution_count": null,
   "metadata": {},
   "outputs": [],
   "source": [
    "# help(tk.IntVar)"
   ]
  },
  {
   "cell_type": "code",
   "execution_count": null,
   "metadata": {},
   "outputs": [],
   "source": [
    "# import tkinter as tk\n",
    "# rt=tk.Tk()\n",
    "# some_var=tk.IntVar()\n",
    "# # var.set(15)\n",
    "# # k=var.get()\n",
    "# # print(k)"
   ]
  },
  {
   "cell_type": "code",
   "execution_count": null,
   "metadata": {},
   "outputs": [],
   "source": [
    "# help(tk.Frame.wait_visibility)"
   ]
  },
  {
   "cell_type": "code",
   "execution_count": null,
   "metadata": {},
   "outputs": [],
   "source": [
    "# import tkinter as tk\n",
    "# rt_0=tk.Tk()\n",
    "# rt_0.geometry('1600x900')\n",
    "# rt_0.title('Game window')\n",
    "# rt_0.configure(bg='black')\n",
    "\n",
    "# from gui_widgets import Widgets\n",
    "\n",
    "# gw=Widgets(rt_0)\n",
    "# gw.name_entered()"
   ]
  },
  {
   "cell_type": "code",
   "execution_count": null,
   "metadata": {},
   "outputs": [],
   "source": [
    "# dir(obj)"
   ]
  },
  {
   "cell_type": "markdown",
   "metadata": {},
   "source": [
    "---\n",
    "sample code for 'tinkering' with the display of hand in gui"
   ]
  },
  {
   "cell_type": "code",
   "execution_count": 10,
   "metadata": {},
   "outputs": [],
   "source": [
    "# import tkinter as tk\n",
    "\n",
    "# rt=tk.Tk()\n",
    "# rt.geometry('1600x900')\n",
    "# rt.configure(bg='black')\n",
    "\n",
    "# rt.columnconfigure(0,weight=1)\n",
    "# rt.columnconfigure(1,weight=1)\n",
    "# rt.columnconfigure(2,weight=1)\n",
    "# rt.rowconfigure(0,weight=1)\n",
    "# rt.rowconfigure(1,weight=1)\n",
    "# rt.rowconfigure(2,weight=1)\n",
    "\n",
    "\n",
    "# fr1=tk.Frame(rt,background='DeepSkyBlue4')\n",
    "# fr1.grid(column=1,row=0)\n",
    "\n",
    "# fr2=tk.Frame(rt,background='DeepSkyBlue4')\n",
    "# fr2.grid(column=0,row=1)\n",
    "\n",
    "# fr3=tk.Frame(rt,background='DeepSkyBlue4')\n",
    "# fr3.grid(column=2,row=1)\n",
    "\n",
    "# fr4=tk.Frame(rt,background='DeepSkyBlue4')\n",
    "# fr4.grid(column=1,row=2)\n",
    "\n",
    "# fr_cen=tk.Frame(rt,background='Black')\n",
    "# fr_cen.grid(column=1,row=1,sticky='NSEW')\n",
    "\n",
    "# fr_cen.columnconfigure(0,weight=1)\n",
    "# fr_cen.columnconfigure(1,weight=1)\n",
    "# fr_cen.columnconfigure(2,weight=1)\n",
    "# fr_cen.rowconfigure(0,weight=1)\n",
    "# fr_cen.rowconfigure(1,weight=1)\n",
    "# fr_cen.rowconfigure(2,weight=1)\n",
    "\n",
    "\n",
    "# def get_now():\n",
    "#     global bt\n",
    "#     buttxt=bt.cget('text')\n",
    "#     tk.Label(fr_cen,text='the text on the button was \\''+buttxt+'\\'').grid(column=1,row=2)\n",
    "#     bt.grid_forget()\n",
    "#     bt=tk.Button(fr_cen,text='hello')\n",
    "#     bt.grid(column=1,row=0)\n",
    "\n",
    "# bt=tk.Button(fr_cen,text='hi')\n",
    "# bt.grid(column=1,row=0)\n",
    "# # bt.grid(column=1,row=2)\n",
    "# # bt.grid(column=0,row=1)\n",
    "# # bt.grid(column=2,row=1)\n",
    "# bt.configure(command=get_now)\n",
    "\n",
    "    \n",
    "# # tk.Button(fr_cen,text='hello').grid(column=1,row=2)\n",
    "# # tk.Button(fr_cen,text='hum').grid(column=0,row=1)\n",
    "# # tk.Button(fr_cen,text='ha').grid(column=2,row=1)\n",
    "\n",
    "# for i in range(8):\n",
    "#     tk.Button(fr1,text=str(i)).pack(side='left',padx=5,pady=5)\n",
    "#     tk.Button(fr2,text=str(i)).pack(side='left',padx=5,pady=5)\n",
    "#     tk.Button(fr3,text=str(i)).pack(side='left',padx=5,pady=5)\n",
    "#     tk.Button(fr4,text=str(i)).pack(side='left',padx=5,pady=5)\n",
    "\n",
    "# rt.mainloop()"
   ]
  },
  {
   "cell_type": "code",
   "execution_count": 11,
   "metadata": {},
   "outputs": [],
   "source": [
    "# bt.cget('bg')"
   ]
  },
  {
   "cell_type": "code",
   "execution_count": 12,
   "metadata": {},
   "outputs": [],
   "source": [
    "# len(buttxt)"
   ]
  },
  {
   "cell_type": "code",
   "execution_count": 13,
   "metadata": {},
   "outputs": [],
   "source": [
    "# help(tk.Frame.grid)"
   ]
  },
  {
   "cell_type": "code",
   "execution_count": null,
   "metadata": {},
   "outputs": [],
   "source": [
    "# import tkinter as tk\n",
    "\n",
    "# rt=tk.Tk()\n",
    "# rt.geometry('1600x900')\n",
    "# rt.configure(bg='black')\n",
    "\n",
    "# fr_0=tk.Frame(rt,background='DeepSkyBlue4')\n",
    "# fr_0.grid(row=2,column=1,sticky='E')\n",
    "# fr_0.grid_rowconfigure(2,weight=1)\n",
    "# fr_0.grid_columnconfigure(1,weight=1)\n",
    "\n",
    "# fr_1=tk.Frame(rt,background='DeepSkyBlue4')\n",
    "# fr_1.grid(row=1,column=2,sticky='E')\n",
    "# fr_1.grid_rowconfigure(1,weight=1)\n",
    "# fr_1.grid_columnconfigure(2,weight=1)\n",
    "\n",
    "# fr_2=tk.Frame(rt,background='DeepSkyBlue4')\n",
    "# fr_2.grid(row=0,column=1,sticky='E')\n",
    "# fr_2.grid_rowconfigure(0,weight=1)\n",
    "\n",
    "# fr_3=tk.Frame(rt,background='DeepSkyBlue4')\n",
    "# fr_3.grid(row=1,column=0,sticky='W')\n",
    "# fr_3.grid_columnconfigure(0,weight=1)\n",
    "\n",
    "# fr_lst=[fr_0,fr_1,fr_2,fr_3]\n",
    "\n",
    "# button_lst_4_nme=[]\n",
    "# for i in range(4):\n",
    "#     button_lst_4_nme.append(tk.Button(fr_lst[i],text=obj.players_lst[i],font=('GNU Unifont',15)))\n",
    "#     button_lst_4_nme[i].pack(side=tk.BOTTOM,pady=10)\n",
    "\n",
    "\n",
    "# button_lst_4_crd=[[],[],[],[]]\n",
    "# for j in range(4):\n",
    "#     for i in range(8):\n",
    "#         k=obj.obj_deal_lst_sorted[j][i]\n",
    "#         button_lst_4_crd[j].append(tk.Button(fr_lst[j],text=k.form(),fg=k.colour(),\\\n",
    "#                                              font=('GNU Unifont',15)))\n",
    "#         button_lst_4_crd[j][i].pack(side=tk.LEFT)\n",
    "\n",
    "# rt.mainloop()"
   ]
  },
  {
   "cell_type": "markdown",
   "metadata": {},
   "source": [
    "---\n",
    "sample code for 'tinkering' with frame and other aspects of gui window"
   ]
  },
  {
   "cell_type": "code",
   "execution_count": null,
   "metadata": {},
   "outputs": [],
   "source": [
    "# import tkinter as tk\n",
    "# rt=tk.Tk()\n",
    "# rt.geometry('1600x900')\n",
    "# rt.configure(bg='black')\n",
    "# fr0=tk.Frame(rt,background='black')\n",
    "# fr1=tk.Frame(rt)\n",
    "\n",
    "# # var=tk.StringVar()\n",
    "\n",
    "# # fr0.grid(row=0,column=0, sticky='')\n",
    "# fr0.pack(side=tk.TOP,fill='both',expand=True)\n",
    "# # fr0.pack(side=tk.TOP)\n",
    "# fr0.grid_rowconfigure(0,weight=1)\n",
    "# fr0.grid_columnconfigure(0,weight=1)\n",
    "# lab0=tk.Label(fr0,text='Top Frame',font=('GNU Unifont',20))\n",
    "# lab0.grid(row=0,column=0, sticky='')\n",
    "\n",
    "# fr1.pack(side=tk.BOTTOM,fill='both',expand=True)\n",
    "# # fr1.pack(side=tk.BOTTOM)\n",
    "# fr1.grid_rowconfigure(0,weight=1)\n",
    "# fr1.grid_columnconfigure(0,weight=1)\n",
    "# lab1=tk.Label(fr1,text='Bottom Frame')\n",
    "# lab1.grid(row=0,column=0, sticky='')\n",
    "\n",
    "# rt.mainloop()"
   ]
  },
  {
   "cell_type": "code",
   "execution_count": null,
   "metadata": {},
   "outputs": [],
   "source": [
    "# help(tk.Label)"
   ]
  },
  {
   "cell_type": "code",
   "execution_count": null,
   "metadata": {},
   "outputs": [],
   "source": [
    "# help(tk.Frame.grid_rowconfigure)"
   ]
  },
  {
   "cell_type": "markdown",
   "metadata": {},
   "source": [
    "---\n",
    "sample code for 'tinkering' gui window"
   ]
  },
  {
   "cell_type": "code",
   "execution_count": null,
   "metadata": {},
   "outputs": [],
   "source": [
    "# import tkinter as tk\n",
    "\n",
    "# rt=tk.Tk()\n",
    "# rt.geometry('1600x900')\n",
    "# rt.configure(bg='black')\n",
    "\n",
    "# fr_0=tk.Frame(rt,background='DeepSkyBlue4')\n",
    "# fr_0.pack(side=tk.BOTTOM)\n",
    "\n",
    "# fr_1=tk.Frame(rt,background='DeepSkyBlue4')\n",
    "# fr_1.pack(side=tk.RIGHT)\n",
    "\n",
    "# fr_2=tk.Frame(rt,background='DeepSkyBlue4')\n",
    "# fr_2.pack(side=tk.TOP)\n",
    "\n",
    "# fr_3=tk.Frame(rt,background='DeepSkyBlue4')\n",
    "# fr_3.pack(side=tk.LEFT)\n",
    "\n",
    "# fr_lst=[fr_0,fr_1,fr_2,fr_3]\n",
    "\n",
    "# button_lst_4_nme=[]\n",
    "# for i in range(4):\n",
    "#     button_lst_4_nme.append(tk.Button(fr_lst[i],text=obj.players_lst[i],font=('GNU Unifont',15)))\n",
    "#     button_lst_4_nme[i].pack(side=tk.BOTTOM,pady=10)\n",
    "\n",
    "\n",
    "# button_lst_4_crd=[[],[],[],[]]\n",
    "# for j in range(4):\n",
    "#     for i in range(8):\n",
    "#         k=obj.obj_deal_lst_sorted[j][i]\n",
    "#         button_lst_4_crd[j].append(tk.Button(fr_lst[j],text=k.form(),fg=k.colour(),\\\n",
    "#                                              font=('GNU Unifont',15)))\n",
    "#         button_lst_4_crd[j][i].pack(side=tk.LEFT)\n",
    "        \n",
    "# fr_center=tk.Frame(rt,background='black')\n",
    "# fr_center.pack()\n",
    "# but_cen=tk.Button(fr_center,text='Continue')\n",
    "# but_cen.pack(side=tk.TOP,pady=300)\n",
    "\n",
    "# rt.mainloop()"
   ]
  },
  {
   "cell_type": "code",
   "execution_count": null,
   "metadata": {},
   "outputs": [],
   "source": [
    "# obj.rt.mainloop()"
   ]
  },
  {
   "cell_type": "code",
   "execution_count": null,
   "metadata": {},
   "outputs": [],
   "source": [
    "# help(tk.Frame.grid)"
   ]
  },
  {
   "cell_type": "code",
   "execution_count": null,
   "metadata": {},
   "outputs": [],
   "source": [
    "# import tkinter as tk\n",
    "\n",
    "# rt=tk.Tk()\n",
    "# rt.geometry('1600x900')\n",
    "# rt.configure(bg='black')\n",
    "\n",
    "# fr_4_nme=[]\n",
    "# fr_4_crd=[]\n",
    "# bt_4_nme=[]\n",
    "# for i in range(4):\n",
    "#     fr_4_nme.append(tk.Frame(rt))\n",
    "#     fr_4_crd.append(tk.Frame(rt))\n",
    "#     bt_4_nme.append(tk.Button(fr_4_nme[i],relief=tk.RAISED,text=obj.players_lst[i],\\\n",
    "#                              font=('GNU Unifont',25)))\n",
    "\n",
    "# fr_4_nme[0].place(relx=0.48,rely=0.8)\n",
    "# fr_4_crd[0].place(relx=0.37,rely=0.75)\n",
    "# bt_4_nme[0].grid(row=1,column=3)\n",
    "\n",
    "# fr_4_nme[1].place(relx=0.8,rely=0.55)\n",
    "# fr_4_crd[1].place(relx=0.7,rely=0.5)\n",
    "# bt_4_nme[1].grid(row=1,column=3)\n",
    "\n",
    "# fr_4_nme[2].place(relx=0.48,rely=0.25)\n",
    "# fr_4_crd[2].place(relx=0.37,rely=0.2)\n",
    "# bt_4_nme[2].grid(row=1,column=3)\n",
    "\n",
    "# fr_4_nme[3].place(relx=0.15,rely=0.55)\n",
    "# fr_4_crd[3].place(relx=0.05,rely=0.5)\n",
    "# bt_4_nme[3].grid(row=1,column=3)\n",
    "\n",
    "# button_lst_4_crd=[[],[],[],[]]\n",
    "# for j in range(4):\n",
    "#     for i in range(8):\n",
    "#         k=obj.obj_deal_lst_sorted[j][i]\n",
    "#         button_lst_4_crd[j].append(tk.Button(fr_4_crd[j],text=k.form(),width=3,relief=tk.RAISED,\\\n",
    "#                                            font=('GNU Unifont',25),fg=k.colour()))\n",
    "#         button_lst_4_crd[j][i].grid(row=0, column=i)\n",
    "\n",
    "# rt.mainloop()"
   ]
  },
  {
   "cell_type": "code",
   "execution_count": null,
   "metadata": {},
   "outputs": [],
   "source": [
    "# help(tk.Label)"
   ]
  },
  {
   "cell_type": "code",
   "execution_count": null,
   "metadata": {},
   "outputs": [],
   "source": [
    "# for i in obj.obj_deal_lst_sorted[0]:\n",
    "#     print(i.form(),end=' ')"
   ]
  },
  {
   "cell_type": "code",
   "execution_count": null,
   "metadata": {},
   "outputs": [],
   "source": [
    "# k=lambda i:'\\u2665' in obj.obj_deal_lst_sorted[0][i].form() or \\\n",
    "#     '\\u2666' in obj.obj_deal_lst_sorted[0][i].form()\n",
    "# for i in range(8):\n",
    "#     print(k(i))"
   ]
  },
  {
   "cell_type": "code",
   "execution_count": null,
   "metadata": {
    "scrolled": true
   },
   "outputs": [],
   "source": [
    "# k=list(map(lambda i:'\\u2665' in i.form() or '\\u2666' in i.form(), obj.obj_deal_lst_sorted[0]))\n",
    "# fg_lst=[]\n",
    "# for i in range(8):\n",
    "#     if k[i]:\n",
    "#         fg_lst.append('red')\n",
    "#     else:\n",
    "#         fg_lst.append('black')\n",
    "# fg_lst"
   ]
  },
  {
   "cell_type": "code",
   "execution_count": null,
   "metadata": {},
   "outputs": [],
   "source": [
    "# help(tk.Frame.grid)"
   ]
  },
  {
   "cell_type": "code",
   "execution_count": null,
   "metadata": {},
   "outputs": [],
   "source": [
    "# dir(obj)"
   ]
  },
  {
   "cell_type": "code",
   "execution_count": null,
   "metadata": {},
   "outputs": [],
   "source": [
    "# help(dir)"
   ]
  },
  {
   "cell_type": "code",
   "execution_count": null,
   "metadata": {},
   "outputs": [],
   "source": [
    "# obj.highest_bidder1_index"
   ]
  },
  {
   "cell_type": "code",
   "execution_count": null,
   "metadata": {},
   "outputs": [],
   "source": [
    "# obj.custom_deal"
   ]
  },
  {
   "cell_type": "code",
   "execution_count": null,
   "metadata": {},
   "outputs": [],
   "source": [
    "# obj.bid_full_hand()\n",
    "# bid_full_hand() method in Prepare_game() is incomplete"
   ]
  },
  {
   "cell_type": "code",
   "execution_count": null,
   "metadata": {},
   "outputs": [],
   "source": [
    "# obj.highest_bidder_index"
   ]
  },
  {
   "cell_type": "code",
   "execution_count": null,
   "metadata": {},
   "outputs": [],
   "source": [
    "# for i in obj.obj_deal_lst_copy[3]:\n",
    "#     print(i.show(),end=' ')"
   ]
  },
  {
   "cell_type": "code",
   "execution_count": null,
   "metadata": {},
   "outputs": [],
   "source": [
    "# obj.obj_display_hands(True)"
   ]
  },
  {
   "cell_type": "code",
   "execution_count": null,
   "metadata": {},
   "outputs": [],
   "source": [
    "# obj.bid2_any_call"
   ]
  },
  {
   "cell_type": "code",
   "execution_count": null,
   "metadata": {},
   "outputs": [],
   "source": [
    "# print(obj.obj_dictn_of_cards_grouped[0][1][1].show())"
   ]
  },
  {
   "cell_type": "code",
   "execution_count": null,
   "metadata": {},
   "outputs": [],
   "source": [
    "# for i in obj.obj_dictn_of_cards_grouped:\n",
    "#     for j in obj.obj_dictn_of_cards_grouped[i]:\n",
    "#         for k in obj.obj_dictn_of_cards_grouped[i][j]:\n",
    "#             print(k.show()+' ',end='')\n",
    "#     print('\\n')"
   ]
  },
  {
   "cell_type": "code",
   "execution_count": null,
   "metadata": {},
   "outputs": [],
   "source": [
    "# for i in obj.obj_deal_lst[2]:\n",
    "#     print(i.show(),end=' ')  "
   ]
  },
  {
   "cell_type": "code",
   "execution_count": null,
   "metadata": {},
   "outputs": [],
   "source": [
    "# for i in obj.obj_deal_lst_copy[0]:\n",
    "#     print(i.show(),end=' ')"
   ]
  },
  {
   "cell_type": "code",
   "execution_count": null,
   "metadata": {},
   "outputs": [],
   "source": [
    "# for i in obj.obj_deal_lst_sorted[0]:\n",
    "#     print(i.show(),end=' ')"
   ]
  },
  {
   "cell_type": "code",
   "execution_count": null,
   "metadata": {},
   "outputs": [],
   "source": [
    "# j_count=[0,0,0,0]\n",
    "# for k in range(4):\n",
    "#     for i in obj.obj_deal_lst[k]:\n",
    "#         if i.rank()=='J':\n",
    "#             j_count[k]+=1\n",
    "# print(j_count)"
   ]
  },
  {
   "cell_type": "code",
   "execution_count": null,
   "metadata": {},
   "outputs": [],
   "source": [
    "# if not 2:\n",
    "#     print('ye')"
   ]
  },
  {
   "cell_type": "code",
   "execution_count": null,
   "metadata": {},
   "outputs": [],
   "source": [
    "# dictnu={1:[1,2,3,4],0:[],2:[1,5,6]}\n",
    "# if True in list(map(lambda x: len(dictnu[x])==3, dictnu)):\n",
    "#     print('yes')"
   ]
  },
  {
   "cell_type": "markdown",
   "metadata": {},
   "source": [
    "## eg. tkinter paint - geeksforgeeks"
   ]
  },
  {
   "cell_type": "code",
   "execution_count": 14,
   "metadata": {},
   "outputs": [],
   "source": [
    "# from tkinter import *\n",
    "  \n",
    "  \n",
    "# root = Tk()\n",
    "  \n",
    "# # Create Title\n",
    "# root.title(  \"Paint App \")\n",
    "  \n",
    "# # specify size\n",
    "# root.geometry(\"1600x900\")\n",
    "  \n",
    "# # define function when  \n",
    "# # mouse double click is enabled\n",
    "# def paint( event ):\n",
    "     \n",
    "#     # Co-ordinates.\n",
    "#     x1, y1, x2, y2 = ( event.x - 3 ), ( event.y - 3 ), ( event.x + 3 ), ( event.y + 3 ) \n",
    "      \n",
    "#     # Colour\n",
    "#     Colour = \"#000fff000\" \n",
    "      \n",
    "#     # specify type of display\n",
    "#     w.create_line( x1, y1, x2, y2, fill = Colour )\n",
    "  \n",
    "  \n",
    "# # create canvas widget.\n",
    "# w = Canvas(root, width = 400, height = 250) \n",
    "  \n",
    "# # call function when double \n",
    "# # click is enabled.\n",
    "# w.bind( \"<B1-Motion>\", paint )\n",
    "  \n",
    "# # create label.\n",
    "# l = Label( root, text = \"Double Click and Drag to draw.\" )\n",
    "# l.pack()\n",
    "# w.pack(fill=BOTH, expand=True)\n",
    "  \n",
    "# mainloop()"
   ]
  }
 ],
 "metadata": {
  "kernelspec": {
   "display_name": "Python 3",
   "language": "python",
   "name": "python3"
  },
  "language_info": {
   "codemirror_mode": {
    "name": "ipython",
    "version": 3
   },
   "file_extension": ".py",
   "mimetype": "text/x-python",
   "name": "python",
   "nbconvert_exporter": "python",
   "pygments_lexer": "ipython3",
   "version": "3.8.3"
  }
 },
 "nbformat": 4,
 "nbformat_minor": 4
}
