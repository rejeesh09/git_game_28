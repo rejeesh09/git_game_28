{
 "cells": [
  {
   "cell_type": "markdown",
   "metadata": {},
   "source": [
    "## Game documentation"
   ]
  },
  {
   "cell_type": "code",
   "execution_count": 1,
   "metadata": {},
   "outputs": [],
   "source": [
    "## Earlier main code - now serves as documentation"
   ]
  },
  {
   "cell_type": "code",
   "execution_count": 2,
   "metadata": {
    "scrolled": true,
    "tags": [
     "zz"
    ]
   },
   "outputs": [],
   "source": [
    "\n",
    "# from round_2 import Round_2\n",
    "\n",
    "    # below are the modules/classes that are being implicitly or otherwise called:\n",
    "    # (this was done to reduce current code size\n",
    "    # not sure if this was necessary or is the proper implementation)\n",
    "    ########################################################################\n",
    "\n",
    "    # 1)......... from cards import Cards\n",
    "    # the class - Cards() takes as argument the card name in alphanumeric-unicode combo and \n",
    "    # creates a card object\n",
    "    # All attributes of a card object can be accessed via methods such as .point(), .rank(), .value(),\n",
    "    # .suit(), .form(), .show() and .colour()\n",
    "    ########################################################################\n",
    "\n",
    "    # 2)......... from deck import Deck\n",
    "    # the class - Deck() takes as argument a dictionary of the 32 card objects. \n",
    "    \n",
    "    # a dictn of card objects (dictn_of_cards[j]=Cards(cards_no_colr[j])),\n",
    "    # is created and passed as argument to Deck() class through the __init__() of child class Prepare_game()\n",
    "    \n",
    "    # This class deals the cards and gets the hands ready for first and second rounds of bidding.\n",
    "    # It has methods .obj_deal(), .obj_sort_half_hands(), .obj_display_half_hands(), \n",
    "    # .obj_sort_hands(), .obj_display_hands(), .obj_induvidual_dictns() and .obj_half_dictns()\n",
    "    # All the above methods are also called through __init__() in child class Prepare_game()\n",
    "    ########################################################################\n",
    "\n",
    "    # 3)......... from prepare_game import Prepare_game\n",
    "    # the class - Prepare_game(Deck) takes as argument the boolean variale, hold, which is passed through the \n",
    "    # __init__() of it's child class Round_1().\n",
    "    # Apart from some list and dictn variables that are created in it's __init__(), \n",
    "    # it has methods for half bidding and setting trump\n",
    "    #-----------------------------------------------------------------------\n",
    "    # method for full bidding is yet to be written* - this is now written\n",
    "    ########################################################################\n",
    "\n",
    "    # 4)......... from round_1 import Round_1\n",
    "    # the class - Round_1(Prepare_game) passes the hold variable to Prepare_game() through __init__()\n",
    "    # It has methods, inp_parse_check(), round1_lead_logic(), round1_follow_logic() and round1_play()\n",
    "    ########################################################################\n",
    "\n",
    "    # 5)......... from round_2 import Round_2\n",
    "    # the class - Round_2(Round_1) passes the hold variable to Round_1() through __init__()\n",
    "    # it calls the round1_play() method of Round_1() as well in its __init__()\n",
    "    #-----------------------------------------------------------------------\n",
    "    # its methods are yet to be written\n",
    "    ########################################################################\n",
    "\n",
    "# obj=Round_2(hold=False,custom_deal=False) # edit hand in custom_card_dealer_function\n",
    "\n",
    "    # pass hold=True to debug, runs previous hand again - this value is passed on to \n",
    "    # bid_half_hand() method in prepare_game(), to repeat the bid_turn_index as well\n",
    "    # pass custom_deal=True to run a custom dealt hand and turn_index, desired hand to be edited in\n",
    "    # custom_card_dealer_function.ipynb file\n",
    "    # ?to obj_deal() method in deck() to repeat the last obj_deal_lst\n",
    "    # the last deal of cards is dumped to last_deal.txt (file opened in binary mode to read and write), \n",
    "    # and loaded using pickle module\n",
    "    # the same with starting bid_turn_index. but it is stored in another txt file\n",
    "    # need to store all critical data in a single file and load from it as and when req.\n",
    "\n",
    "    # round1_play() is called in __init__() of Round_2()\n",
    "    ########################################################################\n",
    "\n",
    "    # Concerns\n",
    "    #.......................................................................\n",
    "\n",
    "    # bid_full_hand needs to be refined for different cases of the non-trump cards available\n",
    "    # eg if there are 4 trumps with J and the other 4 are J and 9 of two suits\n",
    "    # or with 5 trump and another J, 9 and A of the same suit in hand \n",
    "    # and many more like that..\n",
    "    \n",
    "    # follow_logic() in round_1 needs to give player finer control over card played if the player is also\n",
    "    # the highest_bidder, especially in rounds of trump suit\n",
    "    \n",
    "    # calling a thani or 28 while bidding\n",
    "    \n",
    "    # looks like atleast from round2 some structured decision making might be in order\n",
    "    \n",
    "    # entering player name eveytime, even for redeal for no trump\n",
    "\n",
    "    # the method display_hands() is only for debugging purposes and maybe finally after the game also\n",
    "    #    it is needed. it now has an additional bool arg, depending on which original or updated hands\n",
    "    #    are displayed. The parameter can be changed in half_bid in prepare game, where disp_hands is \n",
    "    #    called.\n",
    "    \n",
    "    # can J be let off before a round of the suit is played? \n",
    "\n",
    "    ########################################################################\n",
    "\n",
    "    # Tips\n",
    "    #.......................................................................\n",
    "\n",
    "    # many blocks of code may be folded (to decrease code size and increase readability). but this inturn\n",
    "    # hides those lines of code from a ctl-f search, which can be annoying.\n",
    "    # to work around this, use a special term like 'unfolder' in a comment somewhere in the code,\n",
    "    # (preferably) at the beginning itself mentioning its purpose, then do a find and replace()\n",
    "    # [shortcut - f in command mode] for the term unfolder and replace it with the same. the effect \n",
    "    # of this is to unfold all folded blocks of code. you can then do a normal search (ctl-f) to find \n",
    "    # anything in the code.(say to find from where all a particular method is called in the code.\n",
    "    # F2 to toggle dark mode setting of firefox extension before using find and replace\n",
    "    \n",
    "    # dir(name_of_object) to see all attributes \n",
    "    # Use Find and Replace in Edit menu - \n",
    "    # find '#print('\\nreached' and replace it w/o the '#' to get back line checkpoints for debugging\n",
    "\n",
    "    # magic command %%writefile is now being used to directly write all modules as .py file\n",
    "    # the first code cell is written to the file (%%writefile filename) and successive code cells \n",
    "    # are appended to that file (%%writefile -a filename).\n",
    "\n",
    "    # git \n",
    "    # do git status and see what is not committed\n",
    "    # after testing edits, do git commit, else git add and then commit for new files\n",
    "    # do git diff file_name to see differences before commit\n",
    "    # git push and pull for syncing with remote\n",
    "    # git remote -v to see all the remote repositories set up(common github.com)\n",
    "    # git push origin master (origin is the default name given to the -\n",
    "    # remote repository(here on github). master is the local repo. \n",
    "    # github username:rejeesh09, password:k***s**u1*8*; github might req 2factor authentication in future.\n",
    "    # to push to gitlab: git push gitlab master; username:rejeesh09; pwd:g*tl*bk***sh*u\n",
    "    # to add a remote repo; first create the repo(empty project) on the remote(github, gitlab, etc.) copy \n",
    "    # the url link and do git add remote remote_name remote_url (where remote_name could be 'origin' or \n",
    "    # 'gitlab' or whatever you may choose to give and remote_url will be the url link copied from the \n",
    "    # remote server)\n",
    "    # other git: status, log, diff..\n",
    "    # git init for a new git directory  \n"
   ]
  },
  {
   "cell_type": "markdown",
   "metadata": {},
   "source": [
    "## Main code"
   ]
  },
  {
   "cell_type": "code",
   "execution_count": null,
   "metadata": {
    "code_folding": [],
    "scrolled": false
   },
   "outputs": [
    {
     "name": "stdout",
     "output_type": "stream",
     "text": [
      "\n",
      "\n",
      "Ras: \n",
      "K♠ \u001b[31m9♥\u001b[0m \u001b[31mJ♥\u001b[0m 10♣ \n",
      "\n",
      "Oppo_right: \n",
      "8♠ \u001b[31m7♦\u001b[0m \u001b[31mQ♦\u001b[0m \u001b[31mA♦\u001b[0m \n",
      "\n",
      "Mate: \n",
      "10♠ 9♠ \u001b[31m10♥\u001b[0m 9♣ \n",
      "\n",
      "Oppo_left: \n",
      "A♠ \u001b[31m7♥\u001b[0m \u001b[31m8♥\u001b[0m \u001b[31mK♥\u001b[0m \n",
      "\n",
      "\n",
      "Oppo_right calls 14\n",
      "\n",
      "Mate passes\n",
      "\n",
      "Ras passes\n",
      "\n",
      "Oppo_right made the highest bid: 14\n",
      "\n",
      "bid_counter value:  5\n",
      "\n",
      "Trump card set by Oppo_right\n",
      "\n",
      "\n",
      "Ras: \n",
      "K♠ \u001b[31mQ♥\u001b[0m \u001b[31m9♥\u001b[0m \u001b[31mJ♥\u001b[0m 10♣ J♣ \u001b[31mK♦\u001b[0m \u001b[31mJ♦\u001b[0m \n",
      "\n",
      "Oppo_right: \n",
      "8♠ 8♣ Q♣ K♣ A♣ \u001b[31m7♦\u001b[0m \u001b[31mQ♦\u001b[0m \u001b[31mA♦\u001b[0m \n",
      "\n",
      "Mate: \n",
      "7♠ 10♠ 9♠ J♠ \u001b[31m10♥\u001b[0m 9♣ \u001b[31m8♦\u001b[0m \u001b[31m9♦\u001b[0m \n",
      "\n",
      "Oppo_left: \n",
      "Q♠ A♠ \u001b[31m7♥\u001b[0m \u001b[31m8♥\u001b[0m \u001b[31mK♥\u001b[0m \u001b[31mA♥\u001b[0m 7♣ \u001b[31m10♦\u001b[0m \n",
      "\n",
      "\n",
      "bid2_counter value:  3\n",
      "\n",
      "No one called 21 or above, so trump set by Oppo_right stays for the call of 14 \n",
      "\n",
      "\n",
      "Oppo_right: 8♣\n",
      "\n",
      "Mate: 9♣\n",
      "\n",
      "Oppo_left: 7♣\n",
      "\n",
      "Ras: J♣\n",
      "\n",
      "                    Mate:9♣\n",
      "Oppo_left:7♣                      Oppo_right:8♣\n",
      "                    Ras: J♣\n",
      "\n",
      "Round1 - starting from Oppo_right, counter_clockwise:  8♣ 9♣ 7♣ J♣ \n",
      "\n",
      "round-2_lead_index:  0\n",
      "\n",
      "Points scored - Your_team:5 , Oppo_team:0\n",
      "\n",
      "\n",
      "Ras: K♠\n",
      "\n",
      "Oppo_right: 8♠\n",
      "\n",
      "Mate: J♠\n",
      "\n",
      "Oppo_left: Q♠\n",
      "\n",
      "                    Mate:J♠\n",
      "Oppo_left:Q♠                      Oppo_right:8♠\n",
      "                    Ras: K♠\n",
      "\n",
      "Round-2 - starting from Ras, counter_clockwise:  K♠ 8♠ J♠ Q♠ \n",
      "\n",
      "round-3_lead_index:  0\n",
      "\n",
      "Points scored - Your_team:3 , Oppo_team:0\n",
      "\n",
      "\n",
      "Ras: \u001b[31mJ♥\u001b[0m\n",
      "\n",
      "Oppo_right: \u001b[31m7♦\u001b[0m\n",
      "\n",
      "Mate: 7♠\n",
      "\n",
      "Oppo_left: A♠\n",
      "\n",
      "                    Mate:7♠\n",
      "Oppo_left:A♠                      Oppo_right:\u001b[31m7♦\u001b[0m\n",
      "                    Ras: \u001b[31mJ♥\u001b[0m\n",
      "\n",
      "Round-3 - starting from Ras, counter_clockwise:  \u001b[31mJ♥\u001b[0m \u001b[31m7♦\u001b[0m 7♠ A♠ \n",
      "\n",
      "round-4_lead_index:  0\n",
      "\n",
      "Points scored - Your_team:4 , Oppo_team:0\n",
      "\n",
      "\n",
      "Ras: \u001b[31mJ♦\u001b[0m\n",
      "\n",
      "Oppo_right: Q♣\n",
      "\n",
      "Mate: \u001b[31m10♥\u001b[0m\n",
      "\n",
      "Oppo_left: \u001b[31m7♥\u001b[0m\n",
      "\n",
      "                    Mate:\u001b[31m10♥\u001b[0m\n",
      "Oppo_left:\u001b[31m7♥\u001b[0m                      Oppo_right:Q♣\n",
      "                    Ras: \u001b[31mJ♦\u001b[0m\n",
      "\n",
      "Round-4 - starting from Ras, counter_clockwise:  \u001b[31mJ♦\u001b[0m Q♣ \u001b[31m10♥\u001b[0m \u001b[31m7♥\u001b[0m \n",
      "\n",
      "round-5_lead_index:  0\n",
      "\n",
      "Points scored - Your_team:4 , Oppo_team:0\n",
      "\n",
      "\n",
      "Ras: \u001b[31mK♦\u001b[0m\n",
      "\n",
      "Oppo_right: \u001b[31mA♦\u001b[0m\n",
      "\n",
      "Mate: \u001b[31m9♦\u001b[0m\n",
      "\n",
      "Oppo_left: \u001b[31m10♦\u001b[0m\n",
      "\n",
      "                    Mate:\u001b[31m9♦\u001b[0m\n",
      "Oppo_left:\u001b[31m10♦\u001b[0m                      Oppo_right:\u001b[31mA♦\u001b[0m\n",
      "                    Ras: \u001b[31mK♦\u001b[0m\n",
      "\n",
      "Round-5 - starting from Ras, counter_clockwise:  \u001b[31mK♦\u001b[0m \u001b[31mA♦\u001b[0m \u001b[31m9♦\u001b[0m \u001b[31m10♦\u001b[0m \n",
      "\n",
      "round-6_lead_index:  0\n",
      "\n",
      "Points scored - Your_team:4 , Oppo_team:0\n",
      "\n",
      "\n",
      "Ras: \u001b[31mQ♥\u001b[0m\n",
      "\n",
      "Oppo_right: K♣\n",
      "\n",
      "Mate: \u001b[31m8♦\u001b[0m\n",
      "\n",
      "Oppo_left: \u001b[31mK♥\u001b[0m\n",
      "\n",
      "                    Mate:\u001b[31m8♦\u001b[0m\n",
      "Oppo_left:\u001b[31mK♥\u001b[0m                      Oppo_right:K♣\n",
      "                    Ras: \u001b[31mQ♥\u001b[0m\n",
      "\n",
      "Round-6 - starting from Ras, counter_clockwise:  \u001b[31mQ♥\u001b[0m K♣ \u001b[31m8♦\u001b[0m \u001b[31mK♥\u001b[0m \n",
      "\n",
      "round-7_lead_index:  0\n",
      "\n",
      "Points scored - Your_team:0 , Oppo_team:0\n",
      "\n",
      "\n",
      "Ras: \u001b[31m9♥\u001b[0m\n",
      "\n",
      "Oppo_right: A♣\n",
      "\n",
      "Mate: 10♠\n",
      "\n",
      "Oppo_left: \u001b[31m8♥\u001b[0m\n",
      "\n",
      "                    Mate:10♠\n",
      "Oppo_left:\u001b[31m8♥\u001b[0m                      Oppo_right:A♣\n",
      "                    Ras: \u001b[31m9♥\u001b[0m\n",
      "\n",
      "Round-7 - starting from Ras, counter_clockwise:  \u001b[31m9♥\u001b[0m A♣ 10♠ \u001b[31m8♥\u001b[0m \n",
      "\n",
      "round-8_lead_index:  0\n",
      "\n",
      "Points scored - Your_team:4 , Oppo_team:0\n"
     ]
    }
   ],
   "source": [
    "# the main code is now partly gui based\n",
    "\n",
    "# Deck() in deck.py module is the parent class and all subsequent level children inherit from it\n",
    "# from cards import Cards()\n",
    "# import widget_manager as wm (Widget() class defined in widget_manager.py)\n",
    "# the above two lines in deck.py imports other independent classes Cards() and Widgets()\n",
    "# apart from these, other in-built python modules are also imported\n",
    "\n",
    "# the widget_manager module is imported as wm in the module deck.py and an \n",
    "# object gui_handle of the Widgets() class is created there.\n",
    "# all the specific widget functions are available as methods of this object gui_handle\n",
    "\n",
    "# the below two lines of the earlier main code is now placed inside a tkinter obj mainloop\n",
    "    # from round_2 import Round_2   \n",
    "    # obj=Round_2(hold=False,custom_deal=False,tkntr_rt=rt_0)\n",
    "\n",
    "# detailed(though redundant) documentation(i.e. comments) is being attempted to avoid unfamiliarity \n",
    "# with the code, when looked at after a break(an aft-thought from past experiences).\n",
    "\n",
    "\n",
    "import tkinter as tk\n",
    "\n",
    "rt_0=tk.Tk()\n",
    "# rt_0 serves as the root gui window object\n",
    "\n",
    "rt_0.geometry('1600x900')\n",
    "rt_0.title('Game window')\n",
    "rt_0.configure(bg='white')\n",
    "\n",
    "fr0=tk.Frame(rt_0)\n",
    "# a frame widget is created in the root window which would, later in the code, \n",
    "# display the start game button(but0)\n",
    "fr0.pack(side=tk.TOP, pady=300)\n",
    "# the widget has to be aligned(.pack or .grid or .place) to be seen in the window\n",
    "\n",
    "def game():\n",
    "    global obj\n",
    "    fr0.pack_forget()\n",
    "    \n",
    "    # import Round_8 class from the module\n",
    "    from round_8 import Round_8\n",
    "    \n",
    "    # an object of Round_8 class is created and some arguments are passed.\n",
    "    obj=Round_8(hold=False,custom_deal=False,tkntr_rt=rt_0)\n",
    "    \n",
    "    # hold=True if last hand is to be repeated, custom_deal=True if a tailored hand is to be dealt\n",
    "    # open custom_card_dealer_fuction.ipynb and key in the hands as required. When run, the custom \n",
    "    # deal is stored in custom_deal_lst which will be used by the game code.\n",
    "    \n",
    "but0=tk.Button(fr0,text='Start 28',font=('GNU Unifont',30),command=game)\n",
    "but0.focus()\n",
    "but0.pack()\n",
    "\n",
    "rt_0.mainloop()\n",
    "\n",
    "\n",
    "################## attention ##################################\n",
    "# oppo_right should call trump in round1 for the current hand when hearts is played by player\n",
    "\n",
    "################## attention #################################\n",
    "# have to provide documentation for all variables and methods used, which can be \n",
    "# accessed via say help function ... is this doable?\n",
    "# diff bet turn_index and turn_in_round_index\n",
    "# - turn_index are fixed no.s for each player and self.turn_index will hold the index value of \n",
    "#   the player whose turn is happening at the moment - 0 for player, 1 for oppo_left?, 2 for mate and 3 \n",
    "#   for oppo_right? it's the answer to whose turn?\n",
    "#   but turn_in_round_index tells how many have already played in the round. say if value is 2, then it means\n",
    "#   the 3 player of the round is playing at the moment. the third player of a particular round can be any of \n",
    "#   the 4 players? turn_in_round is the ans to how many have already played in the round?\n",
    "\n",
    "# only obj_dictn_of_card_grouped is getting updated by removing the card played in each round\n",
    "# so it seems difficult to say find the card with the min of max point remaining in a players hand \n",
    "# after each round. It would have been better to keep an updated version of obj_dictn_of_players_and_hands\n",
    "#     - a new dictionary called obj_dictn_of_player_index_and_hand is now being used for this\n",
    "#     - so cards are getting added in obj_dictn_of_played_card_and_player and \n",
    "#       obj_dictn_of_played_card_and_suit and getting removed from \n",
    "#       obj_dictn_of_player_index_and_hand (p.s. note that the naming is not consistent)\n",
    "##this was not required, obj_deal_lst_copy is already the updated version of cards in hand\n",
    "\n",
    "\n",
    "\n",
    "#----------------current bug-------------------------------------\n",
    "\n",
    "\n",
    "#----------------current status----------------------------------\n",
    "# 05/10/2022 \n",
    "# working on round2 follow logic, trump situation to be coded\n",
    "# and changes not commited on git"
   ]
  },
  {
   "cell_type": "code",
   "execution_count": 4,
   "metadata": {},
   "outputs": [
    {
     "data": {
      "text/plain": [
       "5"
      ]
     },
     "execution_count": 4,
     "metadata": {},
     "output_type": "execute_result"
    }
   ],
   "source": [
    "obj.point_player_team_sofar"
   ]
  },
  {
   "cell_type": "code",
   "execution_count": 2,
   "metadata": {},
   "outputs": [
    {
     "data": {
      "text/plain": [
       "['__class__',\n",
       " '__delattr__',\n",
       " '__dict__',\n",
       " '__dir__',\n",
       " '__doc__',\n",
       " '__eq__',\n",
       " '__format__',\n",
       " '__ge__',\n",
       " '__getattribute__',\n",
       " '__gt__',\n",
       " '__hash__',\n",
       " '__init__',\n",
       " '__init_subclass__',\n",
       " '__le__',\n",
       " '__lt__',\n",
       " '__module__',\n",
       " '__ne__',\n",
       " '__new__',\n",
       " '__reduce__',\n",
       " '__reduce_ex__',\n",
       " '__repr__',\n",
       " '__setattr__',\n",
       " '__sizeof__',\n",
       " '__str__',\n",
       " '__subclasshook__',\n",
       " '__weakref__',\n",
       " 'bid2_any_call',\n",
       " 'bid2_counter',\n",
       " 'bid2_counter_lst',\n",
       " 'bid2_turn_index',\n",
       " 'bid2_value',\n",
       " 'bid2_value_final',\n",
       " 'bid2_value_inp',\n",
       " 'bid_counter',\n",
       " 'bid_counter_lst',\n",
       " 'bid_full_hand',\n",
       " 'bid_half_hand',\n",
       " 'bid_turn_index',\n",
       " 'bid_value',\n",
       " 'bid_value_final',\n",
       " 'bid_value_inp',\n",
       " 'card_found',\n",
       " 'card_obj',\n",
       " 'card_played',\n",
       " 'cards_copy',\n",
       " 'cards_no_colr',\n",
       " 'check_val',\n",
       " 'clubs_cards',\n",
       " 'custom_deal',\n",
       " 'diamonds_cards',\n",
       " 'dictn_of_cards_grouped',\n",
       " 'gui_handle',\n",
       " 'hearts_cards',\n",
       " 'highest_bidder1_index',\n",
       " 'highest_bidder_index',\n",
       " 'hold',\n",
       " 'i1',\n",
       " 'i2',\n",
       " 'i3',\n",
       " 'i4',\n",
       " 'induv_dictn',\n",
       " 'inp',\n",
       " 'inp_cpy',\n",
       " 'inp_parse_check',\n",
       " 'inp_parse_check_modified',\n",
       " 'inp_uni',\n",
       " 'inp_uni_obj',\n",
       " 'insert_trump_card_back',\n",
       " 'ld_suit_name',\n",
       " 'legal_card_lst',\n",
       " 'obj_clubs_cards',\n",
       " 'obj_clubs_cards_half',\n",
       " 'obj_deal',\n",
       " 'obj_deal_lst',\n",
       " 'obj_deal_lst_copy',\n",
       " 'obj_deal_lst_sorted',\n",
       " 'obj_diamonds_cards',\n",
       " 'obj_diamonds_cards_half',\n",
       " 'obj_dictn_of_card_points',\n",
       " 'obj_dictn_of_cards_grouped',\n",
       " 'obj_dictn_of_deck_with_value',\n",
       " 'obj_dictn_of_highest_card_and_turn',\n",
       " 'obj_dictn_of_played_card_and_player',\n",
       " 'obj_dictn_of_played_card_and_suit',\n",
       " 'obj_dictn_of_player_index_and_hand',\n",
       " 'obj_dictn_of_players_and_hand',\n",
       " 'obj_display_half_hands',\n",
       " 'obj_display_hands',\n",
       " 'obj_half_deal_lst',\n",
       " 'obj_half_dictn_of_cards_grouped',\n",
       " 'obj_half_dictns',\n",
       " 'obj_hearts_cards',\n",
       " 'obj_hearts_cards_half',\n",
       " 'obj_induv_dictn',\n",
       " 'obj_induv_dictn_half',\n",
       " 'obj_induvidual_dictns',\n",
       " 'obj_played_card_lst',\n",
       " 'obj_played_card_lst_of_32',\n",
       " 'obj_sort_half_hands',\n",
       " 'obj_sort_hands',\n",
       " 'obj_spade_cards',\n",
       " 'obj_spade_cards_half',\n",
       " 'player_input',\n",
       " 'player_name',\n",
       " 'players_lst',\n",
       " 'point_oppo_team',\n",
       " 'point_oppo_team_sofar',\n",
       " 'point_player_team',\n",
       " 'point_player_team_sofar',\n",
       " 'points_lst_32',\n",
       " 'points_lst_8',\n",
       " 'rank',\n",
       " 'red_begin',\n",
       " 'red_end',\n",
       " 'rnd',\n",
       " 'round1_follow_logic',\n",
       " 'round1_highest_point_sofar',\n",
       " 'round1_lead_card',\n",
       " 'round1_lead_card_suit',\n",
       " 'round1_lead_index',\n",
       " 'round1_lead_logic',\n",
       " 'round1_lead_suit_index',\n",
       " 'round1_play',\n",
       " 'round2_follow_logic',\n",
       " 'round2_highest_point_sofar',\n",
       " 'round2_lead_card',\n",
       " 'round2_lead_card_suit',\n",
       " 'round2_lead_index',\n",
       " 'round2_lead_logic',\n",
       " 'round2_lead_player',\n",
       " 'round2_lead_suit_index',\n",
       " 'round2_play',\n",
       " 'round3_follow_logic',\n",
       " 'round3_highest_point_sofar',\n",
       " 'round3_lead_card',\n",
       " 'round3_lead_card_suit',\n",
       " 'round3_lead_index',\n",
       " 'round3_lead_logic',\n",
       " 'round3_lead_player',\n",
       " 'round3_lead_suit_index',\n",
       " 'round3_play',\n",
       " 'round4_lead_index',\n",
       " 'round4_lead_player',\n",
       " 'rt',\n",
       " 'spade_cards',\n",
       " 'suit',\n",
       " 'suit_dictn',\n",
       " 'suit_inp',\n",
       " 'suit_uni',\n",
       " 'tkntr_rt',\n",
       " 'trump_card',\n",
       " 'trump_distrb_good',\n",
       " 'trump_played_in_round',\n",
       " 'trump_revealed',\n",
       " 'trump_set',\n",
       " 'trump_suit',\n",
       " 'trump_suit_index',\n",
       " 'trump_verify',\n",
       " 'turn_in_round_index',\n",
       " 'turn_index',\n",
       " 'x']"
      ]
     },
     "execution_count": 2,
     "metadata": {},
     "output_type": "execute_result"
    }
   ],
   "source": [
    "dir(obj)"
   ]
  },
  {
   "cell_type": "code",
   "execution_count": 10,
   "metadata": {},
   "outputs": [
    {
     "data": {
      "text/plain": [
       "0"
      ]
     },
     "execution_count": 10,
     "metadata": {},
     "output_type": "execute_result"
    }
   ],
   "source": [
    "obj.round2_lead_index"
   ]
  },
  {
   "cell_type": "code",
   "execution_count": 13,
   "metadata": {},
   "outputs": [
    {
     "data": {
      "text/plain": [
       "2"
      ]
     },
     "execution_count": 13,
     "metadata": {},
     "output_type": "execute_result"
    }
   ],
   "source": [
    "a, b = 1, 3\n",
    "abs(a-b)"
   ]
  },
  {
   "cell_type": "code",
   "execution_count": 6,
   "metadata": {},
   "outputs": [
    {
     "name": "stdout",
     "output_type": "stream",
     "text": [
      "A♠\n",
      "9♠\n",
      "J♠\n",
      "\u001b[31mQ♥\u001b[0m\n",
      "\u001b[31mK♥\u001b[0m\n",
      "8♣\n"
     ]
    }
   ],
   "source": [
    "for i in obj.obj_dictn_of_player_index_and_hand[0]:\n",
    "    print(i.show())"
   ]
  },
  {
   "cell_type": "code",
   "execution_count": 3,
   "metadata": {},
   "outputs": [
    {
     "data": {
      "text/plain": [
       "{0: [<cards.Cards at 0x7f3a047cb5b0>,\n",
       "  <cards.Cards at 0x7f39ed187fa0>,\n",
       "  <cards.Cards at 0x7f3a047cb6a0>,\n",
       "  <cards.Cards at 0x7f3a047cb340>,\n",
       "  <cards.Cards at 0x7f3a047cb520>,\n",
       "  <cards.Cards at 0x7f3a047cb220>,\n",
       "  <cards.Cards at 0x7f3a047cb2b0>,\n",
       "  <cards.Cards at 0x7f3a047c8100>],\n",
       " 1: [<cards.Cards at 0x7f39ed187c40>,\n",
       "  <cards.Cards at 0x7f39ed187b20>,\n",
       "  <cards.Cards at 0x7f39ed187cd0>,\n",
       "  <cards.Cards at 0x7f39ed187df0>,\n",
       "  <cards.Cards at 0x7f39ed187e80>,\n",
       "  <cards.Cards at 0x7f39ed187d60>,\n",
       "  <cards.Cards at 0x7f39ed187bb0>,\n",
       "  <cards.Cards at 0x7f39ed187f10>],\n",
       " 2: [<cards.Cards at 0x7f39ed187850>,\n",
       "  <cards.Cards at 0x7f39ed1877c0>,\n",
       "  <cards.Cards at 0x7f39ed187730>,\n",
       "  <cards.Cards at 0x7f39ed1876a0>,\n",
       "  <cards.Cards at 0x7f39ed187a90>,\n",
       "  <cards.Cards at 0x7f39ed187a00>,\n",
       "  <cards.Cards at 0x7f39ed1878e0>,\n",
       "  <cards.Cards at 0x7f39ed187970>],\n",
       " 3: [<cards.Cards at 0x7f39ed1874f0>,\n",
       "  <cards.Cards at 0x7f39ed1845e0>,\n",
       "  <cards.Cards at 0x7f39ed187610>,\n",
       "  <cards.Cards at 0x7f39ed184670>,\n",
       "  <cards.Cards at 0x7f39ed187580>,\n",
       "  <cards.Cards at 0x7f39ed187460>,\n",
       "  <cards.Cards at 0x7f39ed184700>,\n",
       "  <cards.Cards at 0x7f39ed184550>]}"
      ]
     },
     "execution_count": 3,
     "metadata": {},
     "output_type": "execute_result"
    }
   ],
   "source": [
    "obj.obj_dictn_of_player_index_and_hand"
   ]
  },
  {
   "cell_type": "code",
   "execution_count": 13,
   "metadata": {},
   "outputs": [
    {
     "name": "stdout",
     "output_type": "stream",
     "text": [
      "Help on method obj_induvidual_dictns in module deck:\n",
      "\n",
      "obj_induvidual_dictns() method of round_3.Round_3 instance\n",
      "    ##################################################################\n",
      "    # making induvidual dictionaries of grouped cards for Oppo_right, Mate and Oppo_left\n",
      "    #D6)\n",
      "\n"
     ]
    }
   ],
   "source": [
    "help(obj.obj_induvidual_dictns)"
   ]
  },
  {
   "cell_type": "code",
   "execution_count": 14,
   "metadata": {},
   "outputs": [
    {
     "data": {
      "text/plain": [
       "[[<cards.Cards at 0x7f0beb8527d0>,\n",
       "  <cards.Cards at 0x7f0beb852aa0>,\n",
       "  <cards.Cards at 0x7f0beb8526e0>,\n",
       "  <cards.Cards at 0x7f0beb8528f0>,\n",
       "  <cards.Cards at 0x7f0beb852860>,\n",
       "  <cards.Cards at 0x7f0beb852a10>],\n",
       " [<cards.Cards at 0x7f0beb852e00>,\n",
       "  <cards.Cards at 0x7f0beb852f20>,\n",
       "  <cards.Cards at 0x7f0beb852d70>,\n",
       "  <cards.Cards at 0x7f0beb852c50>,\n",
       "  <cards.Cards at 0x7f0beb852e90>,\n",
       "  <cards.Cards at 0x7f0beb852b30>],\n",
       " [<cards.Cards at 0x7f0beb8531f0>,\n",
       "  <cards.Cards at 0x7f0beb853280>,\n",
       "  <cards.Cards at 0x7f0beb853310>,\n",
       "  <cards.Cards at 0x7f0beb8533a0>,\n",
       "  <cards.Cards at 0x7f0beb852fb0>,\n",
       "  <cards.Cards at 0x7f0beb853160>],\n",
       " [<cards.Cards at 0x7f0beb853550>,\n",
       "  <cards.Cards at 0x7f0beb853700>,\n",
       "  <cards.Cards at 0x7f0beb853430>,\n",
       "  <cards.Cards at 0x7f0beb853790>,\n",
       "  <cards.Cards at 0x7f0beb8534c0>,\n",
       "  <cards.Cards at 0x7f0beb853670>]]"
      ]
     },
     "execution_count": 14,
     "metadata": {},
     "output_type": "execute_result"
    }
   ],
   "source": [
    "obj.obj_deal_lst_copy"
   ]
  },
  {
   "cell_type": "code",
   "execution_count": 17,
   "metadata": {},
   "outputs": [
    {
     "name": "stdout",
     "output_type": "stream",
     "text": [
      "Help on dict object:\n",
      "\n",
      "class dict(object)\n",
      " |  dict() -> new empty dictionary\n",
      " |  dict(mapping) -> new dictionary initialized from a mapping object's\n",
      " |      (key, value) pairs\n",
      " |  dict(iterable) -> new dictionary initialized as if via:\n",
      " |      d = {}\n",
      " |      for k, v in iterable:\n",
      " |          d[k] = v\n",
      " |  dict(**kwargs) -> new dictionary initialized with the name=value pairs\n",
      " |      in the keyword argument list.  For example:  dict(one=1, two=2)\n",
      " |  \n",
      " |  Built-in subclasses:\n",
      " |      StgDict\n",
      " |  \n",
      " |  Methods defined here:\n",
      " |  \n",
      " |  __contains__(self, key, /)\n",
      " |      True if the dictionary has the specified key, else False.\n",
      " |  \n",
      " |  __delitem__(self, key, /)\n",
      " |      Delete self[key].\n",
      " |  \n",
      " |  __eq__(self, value, /)\n",
      " |      Return self==value.\n",
      " |  \n",
      " |  __ge__(self, value, /)\n",
      " |      Return self>=value.\n",
      " |  \n",
      " |  __getattribute__(self, name, /)\n",
      " |      Return getattr(self, name).\n",
      " |  \n",
      " |  __getitem__(...)\n",
      " |      x.__getitem__(y) <==> x[y]\n",
      " |  \n",
      " |  __gt__(self, value, /)\n",
      " |      Return self>value.\n",
      " |  \n",
      " |  __init__(self, /, *args, **kwargs)\n",
      " |      Initialize self.  See help(type(self)) for accurate signature.\n",
      " |  \n",
      " |  __ior__(self, value, /)\n",
      " |      Return self|=value.\n",
      " |  \n",
      " |  __iter__(self, /)\n",
      " |      Implement iter(self).\n",
      " |  \n",
      " |  __le__(self, value, /)\n",
      " |      Return self<=value.\n",
      " |  \n",
      " |  __len__(self, /)\n",
      " |      Return len(self).\n",
      " |  \n",
      " |  __lt__(self, value, /)\n",
      " |      Return self<value.\n",
      " |  \n",
      " |  __ne__(self, value, /)\n",
      " |      Return self!=value.\n",
      " |  \n",
      " |  __or__(self, value, /)\n",
      " |      Return self|value.\n",
      " |  \n",
      " |  __repr__(self, /)\n",
      " |      Return repr(self).\n",
      " |  \n",
      " |  __reversed__(self, /)\n",
      " |      Return a reverse iterator over the dict keys.\n",
      " |  \n",
      " |  __ror__(self, value, /)\n",
      " |      Return value|self.\n",
      " |  \n",
      " |  __setitem__(self, key, value, /)\n",
      " |      Set self[key] to value.\n",
      " |  \n",
      " |  __sizeof__(...)\n",
      " |      D.__sizeof__() -> size of D in memory, in bytes\n",
      " |  \n",
      " |  clear(...)\n",
      " |      D.clear() -> None.  Remove all items from D.\n",
      " |  \n",
      " |  copy(...)\n",
      " |      D.copy() -> a shallow copy of D\n",
      " |  \n",
      " |  get(self, key, default=None, /)\n",
      " |      Return the value for key if key is in the dictionary, else default.\n",
      " |  \n",
      " |  items(...)\n",
      " |      D.items() -> a set-like object providing a view on D's items\n",
      " |  \n",
      " |  keys(...)\n",
      " |      D.keys() -> a set-like object providing a view on D's keys\n",
      " |  \n",
      " |  pop(...)\n",
      " |      D.pop(k[,d]) -> v, remove specified key and return the corresponding value.\n",
      " |      \n",
      " |      If the key is not found, return the default if given; otherwise,\n",
      " |      raise a KeyError.\n",
      " |  \n",
      " |  popitem(self, /)\n",
      " |      Remove and return a (key, value) pair as a 2-tuple.\n",
      " |      \n",
      " |      Pairs are returned in LIFO (last-in, first-out) order.\n",
      " |      Raises KeyError if the dict is empty.\n",
      " |  \n",
      " |  setdefault(self, key, default=None, /)\n",
      " |      Insert key with a value of default if key is not in the dictionary.\n",
      " |      \n",
      " |      Return the value for key if key is in the dictionary, else default.\n",
      " |  \n",
      " |  update(...)\n",
      " |      D.update([E, ]**F) -> None.  Update D from dict/iterable E and F.\n",
      " |      If E is present and has a .keys() method, then does:  for k in E: D[k] = E[k]\n",
      " |      If E is present and lacks a .keys() method, then does:  for k, v in E: D[k] = v\n",
      " |      In either case, this is followed by: for k in F:  D[k] = F[k]\n",
      " |  \n",
      " |  values(...)\n",
      " |      D.values() -> an object providing a view on D's values\n",
      " |  \n",
      " |  ----------------------------------------------------------------------\n",
      " |  Class methods defined here:\n",
      " |  \n",
      " |  __class_getitem__(...) from builtins.type\n",
      " |      See PEP 585\n",
      " |  \n",
      " |  fromkeys(iterable, value=None, /) from builtins.type\n",
      " |      Create a new dictionary with keys from iterable and values set to value.\n",
      " |  \n",
      " |  ----------------------------------------------------------------------\n",
      " |  Static methods defined here:\n",
      " |  \n",
      " |  __new__(*args, **kwargs) from builtins.type\n",
      " |      Create and return a new object.  See help(type) for accurate signature.\n",
      " |  \n",
      " |  ----------------------------------------------------------------------\n",
      " |  Data and other attributes defined here:\n",
      " |  \n",
      " |  __hash__ = None\n",
      "\n"
     ]
    }
   ],
   "source": [
    "help(obj.obj_dictn_of_players_and_hand)"
   ]
  },
  {
   "cell_type": "code",
   "execution_count": 10,
   "metadata": {},
   "outputs": [
    {
     "name": "stdout",
     "output_type": "stream",
     "text": [
      "A♠ 9♠ J♠ \u001b[31mQ♥\u001b[0m \u001b[31mK♥\u001b[0m 8♣ J♣ \u001b[31mJ♦\u001b[0m "
     ]
    }
   ],
   "source": [
    "for i in obj.obj_dictn_of_players_and_hand['Ras']:\n",
    "    print(i.show(),end=' ')"
   ]
  },
  {
   "cell_type": "code",
   "execution_count": 15,
   "metadata": {},
   "outputs": [
    {
     "data": {
      "text/plain": [
       "'Oppo_left'"
      ]
     },
     "execution_count": 15,
     "metadata": {},
     "output_type": "execute_result"
    }
   ],
   "source": [
    "obj.players_lst[obj.turn_index]"
   ]
  },
  {
   "cell_type": "code",
   "execution_count": 16,
   "metadata": {},
   "outputs": [
    {
     "data": {
      "text/plain": [
       "[<cards.Cards at 0x7f9814077c70>,\n",
       " <cards.Cards at 0x7f9814077ac0>,\n",
       " <cards.Cards at 0x7f9814077d90>,\n",
       " <cards.Cards at 0x7f9814077a30>,\n",
       " <cards.Cards at 0x7f9814077d00>,\n",
       " <cards.Cards at 0x7f9814077be0>,\n",
       " <cards.Cards at 0x7f98140779a0>,\n",
       " <cards.Cards at 0x7f9814077b50>]"
      ]
     },
     "execution_count": 16,
     "metadata": {},
     "output_type": "execute_result"
    }
   ],
   "source": [
    "obj.obj_dictn_of_players_and_hand[obj.players_lst[obj.turn_index]]"
   ]
  },
  {
   "cell_type": "code",
   "execution_count": 5,
   "metadata": {},
   "outputs": [
    {
     "data": {
      "text/plain": [
       "0"
      ]
     },
     "execution_count": 5,
     "metadata": {},
     "output_type": "execute_result"
    }
   ],
   "source": [
    "obj.point_oppo_team_sofar"
   ]
  },
  {
   "cell_type": "code",
   "execution_count": 6,
   "metadata": {},
   "outputs": [
    {
     "data": {
      "text/plain": [
       "{'Ras': [<cards.Cards at 0x7f5a953ba230>, <cards.Cards at 0x7f5a953b9690>],\n",
       " 'Oppo_right': [<cards.Cards at 0x7f5a95372ec0>,\n",
       "  <cards.Cards at 0x7f5a95372ad0>],\n",
       " 'Mate': [<cards.Cards at 0x7f5a95372fe0>, <cards.Cards at 0x7f5a95373070>],\n",
       " 'Oppo_left': [<cards.Cards at 0x7f5a95373580>,\n",
       "  <cards.Cards at 0x7f5a95373610>]}"
      ]
     },
     "execution_count": 6,
     "metadata": {},
     "output_type": "execute_result"
    }
   ],
   "source": [
    "obj.obj_dictn_of_played_card_and_player"
   ]
  },
  {
   "cell_type": "code",
   "execution_count": 22,
   "metadata": {},
   "outputs": [
    {
     "data": {
      "text/plain": [
       "3"
      ]
     },
     "execution_count": 22,
     "metadata": {},
     "output_type": "execute_result"
    }
   ],
   "source": [
    "obj.turn_index"
   ]
  },
  {
   "cell_type": "code",
   "execution_count": null,
   "metadata": {},
   "outputs": [],
   "source": []
  },
  {
   "cell_type": "code",
   "execution_count": 32,
   "metadata": {
    "code_folding": []
   },
   "outputs": [
    {
     "name": "stdout",
     "output_type": "stream",
     "text": [
      "\u001b[31mA♥\u001b[0m\n"
     ]
    }
   ],
   "source": [
    "print(obj.obj_dictn_of_players_and_hand[obj.players_lst[obj.turn_index]][-4].show())"
   ]
  },
  {
   "cell_type": "code",
   "execution_count": 40,
   "metadata": {},
   "outputs": [],
   "source": [
    "a = obj.obj_dictn_of_players_and_hand[obj.players_lst[obj.turn_index]][-4].suit()"
   ]
  },
  {
   "cell_type": "code",
   "execution_count": 35,
   "metadata": {},
   "outputs": [
    {
     "data": {
      "text/plain": [
       "[]"
      ]
     },
     "execution_count": 35,
     "metadata": {},
     "output_type": "execute_result"
    }
   ],
   "source": [
    "obj.obj_dictn_of_highest_card_and_turn['suit']"
   ]
  },
  {
   "cell_type": "code",
   "execution_count": 41,
   "metadata": {},
   "outputs": [
    {
     "data": {
      "text/plain": [
       "1"
      ]
     },
     "execution_count": 41,
     "metadata": {},
     "output_type": "execute_result"
    }
   ],
   "source": [
    "obj.suit_dictn[a]"
   ]
  },
  {
   "cell_type": "code",
   "execution_count": 39,
   "metadata": {},
   "outputs": [
    {
     "data": {
      "text/plain": [
       "2"
      ]
     },
     "execution_count": 39,
     "metadata": {},
     "output_type": "execute_result"
    }
   ],
   "source": [
    "obj.x"
   ]
  },
  {
   "cell_type": "code",
   "execution_count": 42,
   "metadata": {},
   "outputs": [
    {
     "data": {
      "text/plain": [
       "{'suit': [], 'trump': []}"
      ]
     },
     "execution_count": 42,
     "metadata": {},
     "output_type": "execute_result"
    }
   ],
   "source": [
    "obj.obj_dictn_of_highest_card_and_turn"
   ]
  },
  {
   "cell_type": "code",
   "execution_count": 37,
   "metadata": {},
   "outputs": [
    {
     "data": {
      "text/plain": [
       "{0: {0: [<cards.Cards at 0x7fc1104ac670>,\n",
       "   <cards.Cards at 0x7fc1104ac940>,\n",
       "   <cards.Cards at 0x7fc1104ac580>],\n",
       "  1: [<cards.Cards at 0x7fc1104ac790>, <cards.Cards at 0x7fc1104ac700>],\n",
       "  2: [<cards.Cards at 0x7fc1104ac8b0>],\n",
       "  3: [<cards.Cards at 0x7fc1109dec20>]},\n",
       " 1: {0: [<cards.Cards at 0x7fc1104acca0>],\n",
       "  1: [],\n",
       "  2: [<cards.Cards at 0x7fc1104acc10>,\n",
       "   <cards.Cards at 0x7fc1104acaf0>,\n",
       "   <cards.Cards at 0x7fc1104aca60>],\n",
       "  3: [<cards.Cards at 0x7fc1104acb80>,\n",
       "   <cards.Cards at 0x7fc1104acd30>,\n",
       "   <cards.Cards at 0x7fc1104ac9d0>]},\n",
       " 2: {0: [<cards.Cards at 0x7fc1104ad090>, <cards.Cards at 0x7fc1104ad120>],\n",
       "  1: [<cards.Cards at 0x7fc1104ad1b0>,\n",
       "   <cards.Cards at 0x7fc1104ad240>,\n",
       "   <cards.Cards at 0x7fc1104ace50>],\n",
       "  2: [],\n",
       "  3: [<cards.Cards at 0x7fc1104ad000>, <cards.Cards at 0x7fc1104acf70>]},\n",
       " 3: {0: [<cards.Cards at 0x7fc1104ad3f0>, <cards.Cards at 0x7fc1104ad5a0>],\n",
       "  1: [<cards.Cards at 0x7fc1104ad2d0>,\n",
       "   <cards.Cards at 0x7fc1104ad630>,\n",
       "   <cards.Cards at 0x7fc1104ad360>],\n",
       "  2: [],\n",
       "  3: [<cards.Cards at 0x7fc1104ad6c0>, <cards.Cards at 0x7fc1104ad510>]}}"
      ]
     },
     "execution_count": 37,
     "metadata": {},
     "output_type": "execute_result"
    }
   ],
   "source": [
    "obj.obj_dictn_of_cards_grouped"
   ]
  },
  {
   "cell_type": "code",
   "execution_count": 3,
   "metadata": {},
   "outputs": [
    {
     "data": {
      "text/plain": [
       "[3, 2, 1, 10]"
      ]
     },
     "execution_count": 3,
     "metadata": {},
     "output_type": "execute_result"
    }
   ],
   "source": [
    "lst=[3,2,1,0]\n",
    "lst.pop(3)\n",
    "lst.insert(3,10)\n",
    "lst"
   ]
  },
  {
   "cell_type": "code",
   "execution_count": 1,
   "metadata": {},
   "outputs": [
    {
     "name": "stdout",
     "output_type": "stream",
     "text": [
      "Help on class Widgets in module widget_manager:\n",
      "\n",
      "class Widgets(builtins.object)\n",
      " |  Widgets(root)\n",
      " |  \n",
      " |  All the gui/tkinter methods used in the code are defined here\n",
      " |  \n",
      " |  Methods defined here:\n",
      " |  \n",
      " |  __init__(self, root)\n",
      " |      Takes as argument, a tkinter window (root = tkinter.Tk()).\n",
      " |      \n",
      " |      All frames used in subsequent methods are getting defined here. They were initially \n",
      " |      defined in the respective methods where they were required, but later collected here for \n",
      " |      better book-keeping. \n",
      " |      \n",
      " |      In addition, some other widgets which were defined initially in methods where they were \n",
      " |      not actually used but defined only in anticipation of use in other methods are also \n",
      " |      now collected here\n",
      " |  \n",
      " |  gui_card_played(self, turn_index, card_played)\n",
      " |  \n",
      " |  gui_disp_full_hands(self, highest_bidder_indx, trump_revealed, trump_card, obj_deal_lst_copy, situation)\n",
      " |  \n",
      " |  gui_disp_half_hands(self, players_lst, obj_half_deal_lst)\n",
      " |      Displays the half hands(4 cards) of all players\n",
      " |      \n",
      " |      Takes as argument, players list and obj_half deal_lst.\n",
      " |      It attaches the four frames(fr_0,fr_1,fr_2,fr_3) for displaying the hands and the names of \n",
      " |      the players.\n",
      " |      It creates the buttons for the half hands and attaches them and the name button in the \n",
      " |      respective frames as well (button_lst_4_nme, button_lst_4_crd(list of lists)).\n",
      " |      It attaches a center frame(fr_center) as well with a clickable message widget(but_cen) and \n",
      " |      detaches (the frame) at exit.\n",
      " |      \n",
      " |      The method is  called from obj_display_half_hands() in Deck(), through __init__ of Round_1() \n",
      " |      via __init__ of Prepare_game()\n",
      " |  \n",
      " |  gui_full_bid_declare(self, bidder_indx, bid_val, no_call)\n",
      " |  \n",
      " |  gui_full_bid_entry(self)\n",
      " |  \n",
      " |  gui_full_bid_mes(self, first_bidder)\n",
      " |  \n",
      " |  gui_full_bid_trump(self, bid_val)\n",
      " |  \n",
      " |  gui_full_bid_values(self, bidder_indx, bid_val, calls)\n",
      " |  \n",
      " |  gui_half_bid_declare(self, bidder_indx, bid_val)\n",
      " |  \n",
      " |  gui_half_bid_entry(self)\n",
      " |      Window for taking the bid value(half bid) as input from the player\n",
      " |      \n",
      " |      It detaches the but_next button and self_call label from fr_half_bd_center and \n",
      " |      attaches a frame fr_half_bd_center_bot to it. \n",
      " |      Widgets for taking input are attached to the center_bot frame and the frame is detached on exit.\n",
      " |      self_call widget is attached back to fr_half_bd_center on exit.\n",
      " |      The method gui_half_bid_values() logically follows this method. but_next button would \n",
      " |      be attached in that method.\n",
      " |      \n",
      " |      The method is called from bid_half_hand() in Prepare_game() class.\n",
      " |  \n",
      " |  gui_half_bid_mes(self, first_bidder)\n",
      " |      Window showing the lead bidder name before first round of bidding(half-bid) starts\n",
      " |      \n",
      " |      Takes as argument the round1 lead bidder name\n",
      " |      It attaches the the frame fr_hlf_bd_center to the root window and \n",
      " |      the message widget, lab_mes and a clickable button, but_next to the frame. The label widgets, \n",
      " |      (lab_self_call,_right_call,_mate_call,_left_call) for displaying the calls of each player \n",
      " |      are attached on exit. but_next widget is detached on exit.\n",
      " |      \n",
      " |      The method is called from bid_half_hand() in Prepare_game() class.\n",
      " |  \n",
      " |  gui_half_bid_trump(self, bid_val)\n",
      " |      The method takes the trump card input from the player if the player happens to be \n",
      " |      the highest bidder in half bid round\n",
      " |      \n",
      " |      Takes as argument, the bid value to display the message before taking input\n",
      " |      All the call labels are detached(fr_half_bd_center). A message widget is created and \n",
      " |      attached along with the half_bd_center_bot frame() and its widgets.\n",
      " |      All widgets in fr_half_bd_center are detached on exit and but_next is attached\n",
      " |      \n",
      " |      The method is called, if needed, from bid_half_hand() in Prepare_game() class.\n",
      " |  \n",
      " |  gui_half_bid_values(self, bidder_indx, bid_val, calls)\n",
      " |      Window showing the call values and passes in the half bid round\n",
      " |      \n",
      " |      Takes as argument, the bidder index, the bid value and a boolean to check if there has been a \n",
      " |      call or not.\n",
      " |      It configures the message on the call labels according to the arguments. Clickable widget \n",
      " |      but_next is attached(fr_half_bd_center)\n",
      " |      \n",
      " |      The method is called twice from bid_half_hand() in Prepare_game() class.\n",
      " |  \n",
      " |  gui_player_name(self)\n",
      " |      Displays gui window for taking player name as input\n",
      " |      \n",
      " |      Widgets(lab1,ent1,but1,lab2 and but2) are attached to the frame fr1 in this method.\n",
      " |      \n",
      " |      The method is called from __init__ of Deck() class\n",
      " |  \n",
      " |  gui_round1_card_entry(self)\n",
      " |  \n",
      " |  gui_round1_summary(self, point_oppo_team, point_player_team, round2_lead_player)\n",
      " |  \n",
      " |  gui_round1_trump_call_instance(self, turn_index)\n",
      " |  \n",
      " |  gui_round1_trump_reveal(self, turn_index, trump_card)\n",
      " |  \n",
      " |  ----------------------------------------------------------------------\n",
      " |  Data descriptors defined here:\n",
      " |  \n",
      " |  __dict__\n",
      " |      dictionary for instance variables (if defined)\n",
      " |  \n",
      " |  __weakref__\n",
      " |      list of weak references to the object (if defined)\n",
      "\n"
     ]
    }
   ],
   "source": [
    "from widget_manager import Widgets\n",
    "# import tkinter as tk\n",
    "# rt=tk.Tk()\n",
    "help(Widgets)\n",
    "# dir(Widgets)\n",
    "# obj=Widgets(rt)\n",
    "# dir(obj)"
   ]
  },
  {
   "cell_type": "code",
   "execution_count": 3,
   "metadata": {},
   "outputs": [],
   "source": [
    "# from round_2 import *\n",
    "# help(Round_2)"
   ]
  },
  {
   "cell_type": "code",
   "execution_count": 3,
   "metadata": {},
   "outputs": [],
   "source": [
    "# obj.obj_dictn_of_cards_grouped"
   ]
  },
  {
   "cell_type": "code",
   "execution_count": 9,
   "metadata": {},
   "outputs": [],
   "source": [
    "# obj.suit_dictn"
   ]
  },
  {
   "cell_type": "code",
   "execution_count": 8,
   "metadata": {},
   "outputs": [],
   "source": [
    "# type(obj.suit_dictn[obj.trump_card.suit()])"
   ]
  },
  {
   "cell_type": "code",
   "execution_count": 9,
   "metadata": {},
   "outputs": [],
   "source": [
    "# obj.check_val"
   ]
  },
  {
   "cell_type": "markdown",
   "metadata": {},
   "source": [
    "## trial n error"
   ]
  },
  {
   "cell_type": "code",
   "execution_count": null,
   "metadata": {},
   "outputs": [],
   "source": [
    "# import tkinter as tk\n",
    "\n",
    "# class Card_button():\n",
    "#     def __init__(self,window,card_obj):\n",
    "#         self.but=tk.Button(window,text=card_obj.form(),fg=card_obj.colour(),font=('GNU Unifont',15))\n",
    "#         self.but.pack()\n",
    "        \n",
    "# rt=tk.Tk()\n",
    "# rt.geometry('1600x900')\n",
    "# rt.configure(bg='black')\n",
    "\n",
    "# but1=Card_button(rt,obj.trump_card)\n",
    "# # but1.pack()\n",
    "\n",
    "# rt.mainloop()"
   ]
  },
  {
   "cell_type": "code",
   "execution_count": null,
   "metadata": {},
   "outputs": [],
   "source": [
    "# for i in range(4):\n",
    "#     for j in obj.obj_deal_lst_copy[i]:\n",
    "#         print(j.show(),end=' ') \n",
    "#     print('\\n')\n",
    "# obj.obj_deal_lst"
   ]
  },
  {
   "cell_type": "code",
   "execution_count": null,
   "metadata": {},
   "outputs": [],
   "source": [
    "# help(tk.IntVar)"
   ]
  },
  {
   "cell_type": "code",
   "execution_count": null,
   "metadata": {},
   "outputs": [],
   "source": [
    "# import tkinter as tk\n",
    "# rt=tk.Tk()\n",
    "# some_var=tk.IntVar()\n",
    "# # var.set(15)\n",
    "# # k=var.get()\n",
    "# # print(k)"
   ]
  },
  {
   "cell_type": "code",
   "execution_count": null,
   "metadata": {},
   "outputs": [],
   "source": [
    "# help(tk.Frame.wait_visibility)"
   ]
  },
  {
   "cell_type": "code",
   "execution_count": null,
   "metadata": {},
   "outputs": [],
   "source": [
    "# import tkinter as tk\n",
    "# rt_0=tk.Tk()\n",
    "# rt_0.geometry('1600x900')\n",
    "# rt_0.title('Game window')\n",
    "# rt_0.configure(bg='black')\n",
    "\n",
    "# from gui_widgets import Widgets\n",
    "\n",
    "# gw=Widgets(rt_0)\n",
    "# gw.name_entered()"
   ]
  },
  {
   "cell_type": "code",
   "execution_count": null,
   "metadata": {},
   "outputs": [],
   "source": [
    "# dir(obj)"
   ]
  },
  {
   "cell_type": "markdown",
   "metadata": {},
   "source": [
    "---\n",
    "sample code for 'tinkering' with the display of hand in gui"
   ]
  },
  {
   "cell_type": "code",
   "execution_count": 21,
   "metadata": {
    "collapsed": true
   },
   "outputs": [
    {
     "ename": "KeyboardInterrupt",
     "evalue": "",
     "output_type": "error",
     "traceback": [
      "\u001b[0;31m---------------------------------------------------------------------------\u001b[0m",
      "\u001b[0;31mKeyboardInterrupt\u001b[0m                         Traceback (most recent call last)",
      "\u001b[0;32m<ipython-input-21-1fab21cf6408>\u001b[0m in \u001b[0;36m<module>\u001b[0;34m\u001b[0m\n\u001b[1;32m     71\u001b[0m \u001b[0;31m# fr_cen.wait_variable(some_var)\u001b[0m\u001b[0;34m\u001b[0m\u001b[0;34m\u001b[0m\u001b[0;34m\u001b[0m\u001b[0m\n\u001b[1;32m     72\u001b[0m \u001b[0;34m\u001b[0m\u001b[0m\n\u001b[0;32m---> 73\u001b[0;31m \u001b[0mrt\u001b[0m\u001b[0;34m.\u001b[0m\u001b[0mmainloop\u001b[0m\u001b[0;34m(\u001b[0m\u001b[0;34m)\u001b[0m\u001b[0;34m\u001b[0m\u001b[0;34m\u001b[0m\u001b[0m\n\u001b[0m",
      "\u001b[0;32m~/anaconda3/lib/python3.8/tkinter/__init__.py\u001b[0m in \u001b[0;36mmainloop\u001b[0;34m(self, n)\u001b[0m\n\u001b[1;32m   1418\u001b[0m     \u001b[0;32mdef\u001b[0m \u001b[0mmainloop\u001b[0m\u001b[0;34m(\u001b[0m\u001b[0mself\u001b[0m\u001b[0;34m,\u001b[0m \u001b[0mn\u001b[0m\u001b[0;34m=\u001b[0m\u001b[0;36m0\u001b[0m\u001b[0;34m)\u001b[0m\u001b[0;34m:\u001b[0m\u001b[0;34m\u001b[0m\u001b[0;34m\u001b[0m\u001b[0m\n\u001b[1;32m   1419\u001b[0m         \u001b[0;34m\"\"\"Call the mainloop of Tk.\"\"\"\u001b[0m\u001b[0;34m\u001b[0m\u001b[0;34m\u001b[0m\u001b[0m\n\u001b[0;32m-> 1420\u001b[0;31m         \u001b[0mself\u001b[0m\u001b[0;34m.\u001b[0m\u001b[0mtk\u001b[0m\u001b[0;34m.\u001b[0m\u001b[0mmainloop\u001b[0m\u001b[0;34m(\u001b[0m\u001b[0mn\u001b[0m\u001b[0;34m)\u001b[0m\u001b[0;34m\u001b[0m\u001b[0;34m\u001b[0m\u001b[0m\n\u001b[0m\u001b[1;32m   1421\u001b[0m \u001b[0;34m\u001b[0m\u001b[0m\n\u001b[1;32m   1422\u001b[0m     \u001b[0;32mdef\u001b[0m \u001b[0mquit\u001b[0m\u001b[0;34m(\u001b[0m\u001b[0mself\u001b[0m\u001b[0;34m)\u001b[0m\u001b[0;34m:\u001b[0m\u001b[0;34m\u001b[0m\u001b[0;34m\u001b[0m\u001b[0m\n",
      "\u001b[0;31mKeyboardInterrupt\u001b[0m: "
     ]
    }
   ],
   "source": [
    "# import tkinter as tk\n",
    "\n",
    "# rt=tk.Tk()\n",
    "# rt.geometry('1600x900')\n",
    "# rt.configure(bg='black')\n",
    "\n",
    "# rt.columnconfigure((0,1,2),weight=1)\n",
    "# rt.rowconfigure((0,1,2),weight=1)\n",
    "\n",
    "# fr1=tk.Frame(rt,background='DeepSkyBlue4')\n",
    "# fr1.grid(column=1,row=0)\n",
    "\n",
    "# fr2=tk.Frame(rt,background='DeepSkyBlue4')\n",
    "# fr2.grid(column=0,row=1)\n",
    "\n",
    "# fr3=tk.Frame(rt,background='DeepSkyBlue4')\n",
    "# fr3.grid(column=2,row=1)\n",
    "\n",
    "# fr4=tk.Frame(rt,background='DeepSkyBlue4')\n",
    "# fr4.grid(column=1,row=2)\n",
    "\n",
    "# fr_cen=tk.Frame(rt,background='Black')\n",
    "# fr_cen.grid(column=1,row=1,sticky='NSEW')\n",
    "\n",
    "# fr_cen.columnconfigure((0,1,2),weight=1)\n",
    "# fr_cen.rowconfigure((0,1,2),weight=1)\n",
    "\n",
    "# some_var=tk.IntVar()\n",
    "\n",
    "# # def get_now():\n",
    "# #     global bt\n",
    "# #     buttxt=bt.cget('text')\n",
    "# #     tk.Label(fr_cen,text='the text on the button was \\''+buttxt+'\\'').grid(column=1,row=2)\n",
    "# #     bt.grid_forget()\n",
    "# #     bt=tk.Button(fr_cen,text='hello')\n",
    "# #     bt.grid(column=1,row=0)\n",
    "\n",
    "# def bring_frame():\n",
    "#     global fr_cen,but_top\n",
    "#     fr_cen.grid(column=1,row=1,sticky='NSEW')\n",
    "#     but_top.configure(text='forget frame',command=forget_frame)\n",
    "    \n",
    "\n",
    "# def forget_frame():\n",
    "#     global fr_cen,but_top\n",
    "#     fr_cen.grid_forget()\n",
    "#     but_top.configure(text='bring center frame back',command=bring_frame)\n",
    "\n",
    "# def bring_but():\n",
    "#     global but_top,bt_cen\n",
    "#     but_top=tk.Button(fr1,text='forget center frame')\n",
    "#     but_top.grid(column=1,row=1,sticky='')\n",
    "#     but_top.configure(command=forget_frame)\n",
    "#     bt_cen.configure(command='')\n",
    "\n",
    "# def call():\n",
    "#     bring_but()\n",
    "\n",
    "# bt1=tk.Button(fr_cen,text='hi')\n",
    "# bt1.grid(column=1,row=0,sticky='')\n",
    "# bt2=tk.Button(fr_cen,text='hello')\n",
    "# bt2.grid(column=1,row=2,sticky='')\n",
    "# bt3=tk.Button(fr_cen,text='hum')\n",
    "# bt3.grid(column=0,row=1,sticky='')\n",
    "# bt4=tk.Button(fr_cen,text='ha')\n",
    "# bt4.grid(column=2,row=1,sticky='')\n",
    "# bt_cen=tk.Button(fr_cen,text='bring top button')\n",
    "# bt_cen.configure(command=call)\n",
    "# bt_cen.grid(column=1,row=1,sticky='')\n",
    "\n",
    "# # fr_cen.wait_variable(some_var)\n",
    "\n",
    "# rt.mainloop()"
   ]
  },
  {
   "cell_type": "code",
   "execution_count": 11,
   "metadata": {},
   "outputs": [],
   "source": [
    "# bt.cget('bg')"
   ]
  },
  {
   "cell_type": "code",
   "execution_count": 12,
   "metadata": {},
   "outputs": [],
   "source": [
    "# len(buttxt)"
   ]
  },
  {
   "cell_type": "code",
   "execution_count": 13,
   "metadata": {},
   "outputs": [],
   "source": [
    "# help(tk.Frame.grid)"
   ]
  },
  {
   "cell_type": "code",
   "execution_count": null,
   "metadata": {},
   "outputs": [],
   "source": [
    "# import tkinter as tk\n",
    "\n",
    "# rt=tk.Tk()\n",
    "# rt.geometry('1600x900')\n",
    "# rt.configure(bg='black')\n",
    "\n",
    "# fr_0=tk.Frame(rt,background='DeepSkyBlue4')\n",
    "# fr_0.grid(row=2,column=1,sticky='E')\n",
    "# fr_0.grid_rowconfigure(2,weight=1)\n",
    "# fr_0.grid_columnconfigure(1,weight=1)\n",
    "\n",
    "# fr_1=tk.Frame(rt,background='DeepSkyBlue4')\n",
    "# fr_1.grid(row=1,column=2,sticky='E')\n",
    "# fr_1.grid_rowconfigure(1,weight=1)\n",
    "# fr_1.grid_columnconfigure(2,weight=1)\n",
    "\n",
    "# fr_2=tk.Frame(rt,background='DeepSkyBlue4')\n",
    "# fr_2.grid(row=0,column=1,sticky='E')\n",
    "# fr_2.grid_rowconfigure(0,weight=1)\n",
    "\n",
    "# fr_3=tk.Frame(rt,background='DeepSkyBlue4')\n",
    "# fr_3.grid(row=1,column=0,sticky='W')\n",
    "# fr_3.grid_columnconfigure(0,weight=1)\n",
    "\n",
    "# fr_lst=[fr_0,fr_1,fr_2,fr_3]\n",
    "\n",
    "# button_lst_4_nme=[]\n",
    "# for i in range(4):\n",
    "#     button_lst_4_nme.append(tk.Button(fr_lst[i],text=obj.players_lst[i],font=('GNU Unifont',15)))\n",
    "#     button_lst_4_nme[i].pack(side=tk.BOTTOM,pady=10)\n",
    "\n",
    "\n",
    "# button_lst_4_crd=[[],[],[],[]]\n",
    "# for j in range(4):\n",
    "#     for i in range(8):\n",
    "#         k=obj.obj_deal_lst_sorted[j][i]\n",
    "#         button_lst_4_crd[j].append(tk.Button(fr_lst[j],text=k.form(),fg=k.colour(),\\\n",
    "#                                              font=('GNU Unifont',15)))\n",
    "#         button_lst_4_crd[j][i].pack(side=tk.LEFT)\n",
    "\n",
    "# rt.mainloop()"
   ]
  },
  {
   "cell_type": "markdown",
   "metadata": {},
   "source": [
    "---\n",
    "sample code for 'tinkering' with frame and other aspects of gui window"
   ]
  },
  {
   "cell_type": "code",
   "execution_count": null,
   "metadata": {},
   "outputs": [],
   "source": [
    "# import tkinter as tk\n",
    "# rt=tk.Tk()\n",
    "# rt.geometry('1600x900')\n",
    "# rt.configure(bg='black')\n",
    "# fr0=tk.Frame(rt,background='black')\n",
    "# fr1=tk.Frame(rt)\n",
    "\n",
    "# # var=tk.StringVar()\n",
    "\n",
    "# # fr0.grid(row=0,column=0, sticky='')\n",
    "# fr0.pack(side=tk.TOP,fill='both',expand=True)\n",
    "# # fr0.pack(side=tk.TOP)\n",
    "# fr0.grid_rowconfigure(0,weight=1)\n",
    "# fr0.grid_columnconfigure(0,weight=1)\n",
    "# lab0=tk.Label(fr0,text='Top Frame',font=('GNU Unifont',20))\n",
    "# lab0.grid(row=0,column=0, sticky='')\n",
    "\n",
    "# fr1.pack(side=tk.BOTTOM,fill='both',expand=True)\n",
    "# # fr1.pack(side=tk.BOTTOM)\n",
    "# fr1.grid_rowconfigure(0,weight=1)\n",
    "# fr1.grid_columnconfigure(0,weight=1)\n",
    "# lab1=tk.Label(fr1,text='Bottom Frame')\n",
    "# lab1.grid(row=0,column=0, sticky='')\n",
    "\n",
    "# rt.mainloop()"
   ]
  },
  {
   "cell_type": "code",
   "execution_count": null,
   "metadata": {},
   "outputs": [],
   "source": [
    "# help(tk.Label)"
   ]
  },
  {
   "cell_type": "code",
   "execution_count": null,
   "metadata": {},
   "outputs": [],
   "source": [
    "# help(tk.Frame.grid_rowconfigure)"
   ]
  },
  {
   "cell_type": "markdown",
   "metadata": {},
   "source": [
    "---\n",
    "sample code for 'tinkering' gui window"
   ]
  },
  {
   "cell_type": "code",
   "execution_count": null,
   "metadata": {},
   "outputs": [],
   "source": [
    "# import tkinter as tk\n",
    "\n",
    "# rt=tk.Tk()\n",
    "# rt.geometry('1600x900')\n",
    "# rt.configure(bg='black')\n",
    "\n",
    "# fr_0=tk.Frame(rt,background='DeepSkyBlue4')\n",
    "# fr_0.pack(side=tk.BOTTOM)\n",
    "\n",
    "# fr_1=tk.Frame(rt,background='DeepSkyBlue4')\n",
    "# fr_1.pack(side=tk.RIGHT)\n",
    "\n",
    "# fr_2=tk.Frame(rt,background='DeepSkyBlue4')\n",
    "# fr_2.pack(side=tk.TOP)\n",
    "\n",
    "# fr_3=tk.Frame(rt,background='DeepSkyBlue4')\n",
    "# fr_3.pack(side=tk.LEFT)\n",
    "\n",
    "# fr_lst=[fr_0,fr_1,fr_2,fr_3]\n",
    "\n",
    "# button_lst_4_nme=[]\n",
    "# for i in range(4):\n",
    "#     button_lst_4_nme.append(tk.Button(fr_lst[i],text=obj.players_lst[i],font=('GNU Unifont',15)))\n",
    "#     button_lst_4_nme[i].pack(side=tk.BOTTOM,pady=10)\n",
    "\n",
    "\n",
    "# button_lst_4_crd=[[],[],[],[]]\n",
    "# for j in range(4):\n",
    "#     for i in range(8):\n",
    "#         k=obj.obj_deal_lst_sorted[j][i]\n",
    "#         button_lst_4_crd[j].append(tk.Button(fr_lst[j],text=k.form(),fg=k.colour(),\\\n",
    "#                                              font=('GNU Unifont',15)))\n",
    "#         button_lst_4_crd[j][i].pack(side=tk.LEFT)\n",
    "        \n",
    "# fr_center=tk.Frame(rt,background='black')\n",
    "# fr_center.pack()\n",
    "# but_cen=tk.Button(fr_center,text='Continue')\n",
    "# but_cen.pack(side=tk.TOP,pady=300)\n",
    "\n",
    "# rt.mainloop()"
   ]
  },
  {
   "cell_type": "code",
   "execution_count": null,
   "metadata": {},
   "outputs": [],
   "source": [
    "# obj.rt.mainloop()"
   ]
  },
  {
   "cell_type": "code",
   "execution_count": null,
   "metadata": {},
   "outputs": [],
   "source": [
    "# help(tk.Frame.grid)"
   ]
  },
  {
   "cell_type": "code",
   "execution_count": null,
   "metadata": {},
   "outputs": [],
   "source": [
    "# import tkinter as tk\n",
    "\n",
    "# rt=tk.Tk()\n",
    "# rt.geometry('1600x900')\n",
    "# rt.configure(bg='black')\n",
    "\n",
    "# fr_4_nme=[]\n",
    "# fr_4_crd=[]\n",
    "# bt_4_nme=[]\n",
    "# for i in range(4):\n",
    "#     fr_4_nme.append(tk.Frame(rt))\n",
    "#     fr_4_crd.append(tk.Frame(rt))\n",
    "#     bt_4_nme.append(tk.Button(fr_4_nme[i],relief=tk.RAISED,text=obj.players_lst[i],\\\n",
    "#                              font=('GNU Unifont',25)))\n",
    "\n",
    "# fr_4_nme[0].place(relx=0.48,rely=0.8)\n",
    "# fr_4_crd[0].place(relx=0.37,rely=0.75)\n",
    "# bt_4_nme[0].grid(row=1,column=3)\n",
    "\n",
    "# fr_4_nme[1].place(relx=0.8,rely=0.55)\n",
    "# fr_4_crd[1].place(relx=0.7,rely=0.5)\n",
    "# bt_4_nme[1].grid(row=1,column=3)\n",
    "\n",
    "# fr_4_nme[2].place(relx=0.48,rely=0.25)\n",
    "# fr_4_crd[2].place(relx=0.37,rely=0.2)\n",
    "# bt_4_nme[2].grid(row=1,column=3)\n",
    "\n",
    "# fr_4_nme[3].place(relx=0.15,rely=0.55)\n",
    "# fr_4_crd[3].place(relx=0.05,rely=0.5)\n",
    "# bt_4_nme[3].grid(row=1,column=3)\n",
    "\n",
    "# button_lst_4_crd=[[],[],[],[]]\n",
    "# for j in range(4):\n",
    "#     for i in range(8):\n",
    "#         k=obj.obj_deal_lst_sorted[j][i]\n",
    "#         button_lst_4_crd[j].append(tk.Button(fr_4_crd[j],text=k.form(),width=3,relief=tk.RAISED,\\\n",
    "#                                            font=('GNU Unifont',25),fg=k.colour()))\n",
    "#         button_lst_4_crd[j][i].grid(row=0, column=i)\n",
    "\n",
    "# rt.mainloop()"
   ]
  },
  {
   "cell_type": "code",
   "execution_count": null,
   "metadata": {},
   "outputs": [],
   "source": [
    "# help(tk.Label)"
   ]
  },
  {
   "cell_type": "code",
   "execution_count": null,
   "metadata": {},
   "outputs": [],
   "source": [
    "# for i in obj.obj_deal_lst_sorted[0]:\n",
    "#     print(i.form(),end=' ')"
   ]
  },
  {
   "cell_type": "code",
   "execution_count": null,
   "metadata": {},
   "outputs": [],
   "source": [
    "# k=lambda i:'\\u2665' in obj.obj_deal_lst_sorted[0][i].form() or \\\n",
    "#     '\\u2666' in obj.obj_deal_lst_sorted[0][i].form()\n",
    "# for i in range(8):\n",
    "#     print(k(i))"
   ]
  },
  {
   "cell_type": "code",
   "execution_count": null,
   "metadata": {
    "scrolled": true
   },
   "outputs": [],
   "source": [
    "# k=list(map(lambda i:'\\u2665' in i.form() or '\\u2666' in i.form(), obj.obj_deal_lst_sorted[0]))\n",
    "# fg_lst=[]\n",
    "# for i in range(8):\n",
    "#     if k[i]:\n",
    "#         fg_lst.append('red')\n",
    "#     else:\n",
    "#         fg_lst.append('black')\n",
    "# fg_lst"
   ]
  },
  {
   "cell_type": "code",
   "execution_count": null,
   "metadata": {},
   "outputs": [],
   "source": [
    "# help(tk.Frame.grid)"
   ]
  },
  {
   "cell_type": "code",
   "execution_count": null,
   "metadata": {},
   "outputs": [],
   "source": [
    "# dir(obj)"
   ]
  },
  {
   "cell_type": "code",
   "execution_count": null,
   "metadata": {},
   "outputs": [],
   "source": [
    "# help(dir)"
   ]
  },
  {
   "cell_type": "code",
   "execution_count": null,
   "metadata": {},
   "outputs": [],
   "source": [
    "# obj.highest_bidder1_index"
   ]
  },
  {
   "cell_type": "code",
   "execution_count": null,
   "metadata": {},
   "outputs": [],
   "source": [
    "# obj.custom_deal"
   ]
  },
  {
   "cell_type": "code",
   "execution_count": null,
   "metadata": {},
   "outputs": [],
   "source": [
    "# obj.bid_full_hand()\n",
    "# bid_full_hand() method in Prepare_game() is incomplete"
   ]
  },
  {
   "cell_type": "code",
   "execution_count": null,
   "metadata": {},
   "outputs": [],
   "source": [
    "# obj.highest_bidder_index"
   ]
  },
  {
   "cell_type": "code",
   "execution_count": null,
   "metadata": {},
   "outputs": [],
   "source": [
    "# for i in obj.obj_deal_lst_copy[3]:\n",
    "#     print(i.show(),end=' ')"
   ]
  },
  {
   "cell_type": "code",
   "execution_count": null,
   "metadata": {},
   "outputs": [],
   "source": [
    "# obj.obj_display_hands(True)"
   ]
  },
  {
   "cell_type": "code",
   "execution_count": null,
   "metadata": {},
   "outputs": [],
   "source": [
    "# obj.bid2_any_call"
   ]
  },
  {
   "cell_type": "code",
   "execution_count": null,
   "metadata": {},
   "outputs": [],
   "source": [
    "# print(obj.obj_dictn_of_cards_grouped[0][1][1].show())"
   ]
  },
  {
   "cell_type": "code",
   "execution_count": null,
   "metadata": {},
   "outputs": [],
   "source": [
    "# for i in obj.obj_dictn_of_cards_grouped:\n",
    "#     for j in obj.obj_dictn_of_cards_grouped[i]:\n",
    "#         for k in obj.obj_dictn_of_cards_grouped[i][j]:\n",
    "#             print(k.show()+' ',end='')\n",
    "#     print('\\n')"
   ]
  },
  {
   "cell_type": "code",
   "execution_count": null,
   "metadata": {},
   "outputs": [],
   "source": [
    "# for i in obj.obj_deal_lst[2]:\n",
    "#     print(i.show(),end=' ')  "
   ]
  },
  {
   "cell_type": "code",
   "execution_count": null,
   "metadata": {},
   "outputs": [],
   "source": [
    "# for i in obj.obj_deal_lst_copy[0]:\n",
    "#     print(i.show(),end=' ')"
   ]
  },
  {
   "cell_type": "code",
   "execution_count": null,
   "metadata": {},
   "outputs": [],
   "source": [
    "# for i in obj.obj_deal_lst_sorted[0]:\n",
    "#     print(i.show(),end=' ')"
   ]
  },
  {
   "cell_type": "code",
   "execution_count": null,
   "metadata": {},
   "outputs": [],
   "source": [
    "# j_count=[0,0,0,0]\n",
    "# for k in range(4):\n",
    "#     for i in obj.obj_deal_lst[k]:\n",
    "#         if i.rank()=='J':\n",
    "#             j_count[k]+=1\n",
    "# print(j_count)"
   ]
  },
  {
   "cell_type": "code",
   "execution_count": null,
   "metadata": {},
   "outputs": [],
   "source": [
    "# if not 2:\n",
    "#     print('ye')"
   ]
  },
  {
   "cell_type": "code",
   "execution_count": null,
   "metadata": {},
   "outputs": [],
   "source": [
    "# dictnu={1:[1,2,3,4],0:[],2:[1,5,6]}\n",
    "# if True in list(map(lambda x: len(dictnu[x])==3, dictnu)):\n",
    "#     print('yes')"
   ]
  },
  {
   "cell_type": "markdown",
   "metadata": {},
   "source": [
    "## eg. tkinter paint - geeksforgeeks"
   ]
  },
  {
   "cell_type": "code",
   "execution_count": 14,
   "metadata": {},
   "outputs": [],
   "source": [
    "# from tkinter import *\n",
    "  \n",
    "  \n",
    "# root = Tk()\n",
    "  \n",
    "# # Create Title\n",
    "# root.title(  \"Paint App \")\n",
    "  \n",
    "# # specify size\n",
    "# root.geometry(\"1600x900\")\n",
    "  \n",
    "# # define function when  \n",
    "# # mouse double click is enabled\n",
    "# def paint( event ):\n",
    "     \n",
    "#     # Co-ordinates.\n",
    "#     x1, y1, x2, y2 = ( event.x - 3 ), ( event.y - 3 ), ( event.x + 3 ), ( event.y + 3 ) \n",
    "      \n",
    "#     # Colour\n",
    "#     Colour = \"#000fff000\" \n",
    "      \n",
    "#     # specify type of display\n",
    "#     w.create_line( x1, y1, x2, y2, fill = Colour )\n",
    "  \n",
    "  \n",
    "# # create canvas widget.\n",
    "# w = Canvas(root, width = 400, height = 250) \n",
    "  \n",
    "# # call function when double \n",
    "# # click is enabled.\n",
    "# w.bind( \"<B1-Motion>\", paint )\n",
    "  \n",
    "# # create label.\n",
    "# l = Label( root, text = \"Double Click and Drag to draw.\" )\n",
    "# l.pack()\n",
    "# w.pack(fill=BOTH, expand=True)\n",
    "  \n",
    "# mainloop()"
   ]
  }
 ],
 "metadata": {
  "kernelspec": {
   "display_name": "Python 3 (ipykernel)",
   "language": "python",
   "name": "python3"
  },
  "language_info": {
   "codemirror_mode": {
    "name": "ipython",
    "version": 3
   },
   "file_extension": ".py",
   "mimetype": "text/x-python",
   "name": "python",
   "nbconvert_exporter": "python",
   "pygments_lexer": "ipython3",
   "version": "3.10.6"
  },
  "toc": {
   "base_numbering": 1,
   "nav_menu": {},
   "number_sections": true,
   "sideBar": true,
   "skip_h1_title": false,
   "title_cell": "Table of Contents",
   "title_sidebar": "Contents",
   "toc_cell": false,
   "toc_position": {},
   "toc_section_display": true,
   "toc_window_display": false
  },
  "varInspector": {
   "cols": {
    "lenName": 16,
    "lenType": 16,
    "lenVar": 40
   },
   "kernels_config": {
    "python": {
     "delete_cmd_postfix": "",
     "delete_cmd_prefix": "del ",
     "library": "var_list.py",
     "varRefreshCmd": "print(var_dic_list())"
    },
    "r": {
     "delete_cmd_postfix": ") ",
     "delete_cmd_prefix": "rm(",
     "library": "var_list.r",
     "varRefreshCmd": "cat(var_dic_list()) "
    }
   },
   "types_to_exclude": [
    "module",
    "function",
    "builtin_function_or_method",
    "instance",
    "_Feature"
   ],
   "window_display": false
  }
 },
 "nbformat": 4,
 "nbformat_minor": 4
}
