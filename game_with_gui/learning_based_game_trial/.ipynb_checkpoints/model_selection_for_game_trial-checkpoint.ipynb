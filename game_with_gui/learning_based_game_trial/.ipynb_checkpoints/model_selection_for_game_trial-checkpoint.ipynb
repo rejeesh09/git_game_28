{
 "cells": [
  {
   "cell_type": "markdown",
   "id": "27d9737a",
   "metadata": {},
   "source": [
    "## Decision tree?\n",
    "    - how many decision nodes are there\n",
    "    - every scenario cannot be thought about\n",
    "    - what's the point of employing learning"
   ]
  },
  {
   "cell_type": "markdown",
   "id": "d0247831",
   "metadata": {},
   "source": [
    "### Data features"
   ]
  },
  {
   "cell_type": "code",
   "execution_count": 1,
   "id": "0323d121",
   "metadata": {},
   "outputs": [],
   "source": [
    "decision_factors=['Leading_turn','Suit_in_hand','Suit_previously_played','J_in_hand',\\\n",
    "                  'Highest_remainig_card_in_hand','Trump_revealed','Trump_played_in_round']"
   ]
  },
  {
   "cell_type": "markdown",
   "id": "ff629b1e",
   "metadata": {},
   "source": [
    "## Neural Network?\n",
    "\n",
    "    - input vector would be the set of cards in hand in each round\n",
    "    - "
   ]
  },
  {
   "cell_type": "code",
   "execution_count": null,
   "id": "8174ea53",
   "metadata": {},
   "outputs": [],
   "source": []
  }
 ],
 "metadata": {
  "kernelspec": {
   "display_name": "Python 3 (ipykernel)",
   "language": "python",
   "name": "python3"
  },
  "language_info": {
   "codemirror_mode": {
    "name": "ipython",
    "version": 3
   },
   "file_extension": ".py",
   "mimetype": "text/x-python",
   "name": "python",
   "nbconvert_exporter": "python",
   "pygments_lexer": "ipython3",
   "version": "3.10.6"
  },
  "toc": {
   "base_numbering": 1,
   "nav_menu": {},
   "number_sections": true,
   "sideBar": true,
   "skip_h1_title": false,
   "title_cell": "Table of Contents",
   "title_sidebar": "Contents",
   "toc_cell": false,
   "toc_position": {},
   "toc_section_display": true,
   "toc_window_display": false
  },
  "varInspector": {
   "cols": {
    "lenName": 16,
    "lenType": 16,
    "lenVar": 40
   },
   "kernels_config": {
    "python": {
     "delete_cmd_postfix": "",
     "delete_cmd_prefix": "del ",
     "library": "var_list.py",
     "varRefreshCmd": "print(var_dic_list())"
    },
    "r": {
     "delete_cmd_postfix": ") ",
     "delete_cmd_prefix": "rm(",
     "library": "var_list.r",
     "varRefreshCmd": "cat(var_dic_list()) "
    }
   },
   "types_to_exclude": [
    "module",
    "function",
    "builtin_function_or_method",
    "instance",
    "_Feature"
   ],
   "window_display": false
  }
 },
 "nbformat": 4,
 "nbformat_minor": 5
}
