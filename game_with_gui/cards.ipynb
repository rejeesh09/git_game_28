{
 "cells": [
  {
   "cell_type": "markdown",
   "metadata": {},
   "source": [
    "## a. Cards() class"
   ]
  },
  {
   "cell_type": "code",
   "execution_count": 1,
   "metadata": {
    "tags": [
     "z1"
    ]
   },
   "outputs": [
    {
     "name": "stdout",
     "output_type": "stream",
     "text": [
      "Overwriting cards.py\n"
     ]
    }
   ],
   "source": [
    "%%writefile cards.py\n",
    "######################################################################\n",
    "class Cards():\n",
    "    def __init__(self,x):\n",
    "        # the argument x should be the alphanumeric-unicode combo of one of the 32 cards\n",
    "        self.x=x\n",
    "        \n",
    "        # making a list, cards_no_colr=['7♠', '8♠','Q♠',...,'9♦','J♦']\n",
    "        # this is done to have a .value() method which returns the index of \n",
    "        # the card in this list, which is used in sorting hands\n",
    "        # - unicode for symbols, spade-\\u2660, hearts-\\u2665, clubs-\\u2663, diamonds-\\u2666\n",
    "        self.suit_uni=['\\u2660','\\u2665','\\u2663','\\u2666']\n",
    "        self.rank_er=['7','8','Q','K','10','A','9','J']                \n",
    "        self.cards_no_colr=[]\n",
    "        for y in self.suit_uni:\n",
    "            self.cards_no_colr.extend([x+y for x in self.rank_er])\n",
    "        \n",
    "    ##################################################################\n",
    "    # to make the objects hashable - to be used as dictionary key etc.\n",
    "    def __hash__(self):\n",
    "        return hash(str(self.x))\n",
    "    ##################################################################\n",
    "    # objects in Cards can now be compared or used with membership operators\n",
    "    def __eq__(self,other):\n",
    "        return self.x == other.x\n",
    "    ##################################################################\n",
    "    \n",
    "    def form(self):\n",
    "        return(self.x)\n",
    "    \n",
    "    def show(self):\n",
    "        red_begin='\\033[31m'\n",
    "        red_end='\\033[0m'\n",
    "        if self.x.count('\\u2665')!=0 or self.x.count('\\u2666')!=0:\n",
    "            return(red_begin+self.x+red_end)\n",
    "        else:\n",
    "            return(self.x)\n",
    "    \n",
    "    def colour(self):\n",
    "        if self.x.count('\\u2665')!=0 or self.x.count('\\u2666')!=0:\n",
    "            return('red')\n",
    "        else:\n",
    "            return('black')\n",
    "\n",
    "    def suit(self):\n",
    "        if self.x.count('\\u2660')!=0:\n",
    "            return('spade')\n",
    "        if self.x.count('\\u2665')!=0:\n",
    "            return('hearts')\n",
    "        if self.x.count('\\u2663')!=0:\n",
    "            return('clubs')\n",
    "        if self.x.count('\\u2666')!=0:\n",
    "            return('diamonds')\n",
    "    \n",
    "    def rank(self):\n",
    "        if self.x.count('7')!=0:\n",
    "            return('7')\n",
    "        if self.x.count('8')!=0:\n",
    "            return('8')\n",
    "        if self.x.count('Q')!=0:\n",
    "            return('Q')\n",
    "        if self.x.count('K')!=0:\n",
    "            return('K')\n",
    "        if self.x.count('10')!=0:\n",
    "            return('10')\n",
    "        if self.x.count('A')!=0:\n",
    "            return('A')\n",
    "        if self.x.count('9')!=0:\n",
    "            return('9')\n",
    "        if self.x.count('J')!=0:\n",
    "            return('J')\n",
    "    \n",
    "    def point(self):\n",
    "        if self.x.count('7')!=0:\n",
    "            return(0.01)\n",
    "        if self.x.count('8')!=0:\n",
    "            return(0.02)\n",
    "        if self.x.count('Q')!=0:\n",
    "            return(0.03)\n",
    "        if self.x.count('K')!=0:\n",
    "            return(0.04)\n",
    "        if self.x.count('10')!=0:\n",
    "            return(1.00)\n",
    "        if self.x.count('A')!=0:\n",
    "            return(1.01)\n",
    "        if self.x.count('9')!=0:\n",
    "            return(2.00)\n",
    "        if self.x.count('J')!=0:\n",
    "            return(3.00)\n",
    "        \n",
    "    def value(self):\n",
    "        return self.cards_no_colr.index(self.x)\n"
   ]
  }
 ],
 "metadata": {
  "celltoolbar": "Tags",
  "kernelspec": {
   "display_name": "Python 3 (ipykernel)",
   "language": "python",
   "name": "python3"
  },
  "language_info": {
   "codemirror_mode": {
    "name": "ipython",
    "version": 3
   },
   "file_extension": ".py",
   "mimetype": "text/x-python",
   "name": "python",
   "nbconvert_exporter": "python",
   "pygments_lexer": "ipython3",
   "version": "3.10.4"
  },
  "toc": {
   "base_numbering": 1,
   "nav_menu": {},
   "number_sections": true,
   "sideBar": true,
   "skip_h1_title": false,
   "title_cell": "Table of Contents",
   "title_sidebar": "Contents",
   "toc_cell": false,
   "toc_position": {},
   "toc_section_display": true,
   "toc_window_display": false
  },
  "varInspector": {
   "cols": {
    "lenName": 16,
    "lenType": 16,
    "lenVar": 40
   },
   "kernels_config": {
    "python": {
     "delete_cmd_postfix": "",
     "delete_cmd_prefix": "del ",
     "library": "var_list.py",
     "varRefreshCmd": "print(var_dic_list())"
    },
    "r": {
     "delete_cmd_postfix": ") ",
     "delete_cmd_prefix": "rm(",
     "library": "var_list.r",
     "varRefreshCmd": "cat(var_dic_list()) "
    }
   },
   "types_to_exclude": [
    "module",
    "function",
    "builtin_function_or_method",
    "instance",
    "_Feature"
   ],
   "window_display": false
  }
 },
 "nbformat": 4,
 "nbformat_minor": 4
}
