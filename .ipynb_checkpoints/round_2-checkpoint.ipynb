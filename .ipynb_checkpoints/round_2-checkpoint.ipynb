{
 "cells": [
  {
   "cell_type": "markdown",
   "metadata": {},
   "source": [
    "## Importing Round_1 - parent class of Round_2()"
   ]
  },
  {
   "cell_type": "code",
   "execution_count": 1,
   "metadata": {},
   "outputs": [],
   "source": [
    "%%writefile round_2.py\n",
    "#########################################################################\n",
    "from round_1 import Round_1\n",
    "# Round_1() class is where the first round of the game takes place(i.e. round1_play() method in Round_1())\n",
    "# so the round1_play() method has to be called from Round_2 and round2_play() from Round_3 and so on"
   ]
  },
  {
   "cell_type": "markdown",
   "metadata": {},
   "source": [
    "## e. Round_2() class"
   ]
  },
  {
   "cell_type": "code",
   "execution_count": 2,
   "metadata": {},
   "outputs": [],
   "source": [
    "%%writefile -a round_2.py\n",
    "#########################################################################\n",
    "class Round_2(Round_1):\n",
    "    def __init__(self,hold,custom_deal):\n",
    "        self.hold=hold\n",
    "        self.custom_deal=custom_deal\n",
    "        # don't think the arguments passed have to be made self.\n",
    "        super().__init__(self.hold,self.custom_deal)\n",
    "        # kind of creating an object instance of Round_1() class with the above __init__()\n",
    "        super().round1_play()\n",
    "        # similarly round2_play(to be defined){as well as __init__()} \n",
    "        # can be called in __init__() of Round_3() and so on.\n",
    "    \n",
    "    # methods to be defined in this class\n",
    "    # round2_lead_logic()\n",
    "    # round2_follow_logic()\n",
    "    # round2_play()\n"
   ]
  }
 ],
 "metadata": {
  "kernelspec": {
   "display_name": "Python 3 (ipykernel)",
   "language": "python",
   "name": "python3"
  },
  "language_info": {
   "codemirror_mode": {
    "name": "ipython",
    "version": 3
   },
   "file_extension": ".py",
   "mimetype": "text/x-python",
   "name": "python",
   "nbconvert_exporter": "python",
   "pygments_lexer": "ipython3",
   "version": "3.10.4"
  },
  "toc": {
   "base_numbering": 1,
   "nav_menu": {},
   "number_sections": true,
   "sideBar": true,
   "skip_h1_title": false,
   "title_cell": "Table of Contents",
   "title_sidebar": "Contents",
   "toc_cell": false,
   "toc_position": {},
   "toc_section_display": true,
   "toc_window_display": false
  },
  "varInspector": {
   "cols": {
    "lenName": 16,
    "lenType": 16,
    "lenVar": 40
   },
   "kernels_config": {
    "python": {
     "delete_cmd_postfix": "",
     "delete_cmd_prefix": "del ",
     "library": "var_list.py",
     "varRefreshCmd": "print(var_dic_list())"
    },
    "r": {
     "delete_cmd_postfix": ") ",
     "delete_cmd_prefix": "rm(",
     "library": "var_list.r",
     "varRefreshCmd": "cat(var_dic_list()) "
    }
   },
   "types_to_exclude": [
    "module",
    "function",
    "builtin_function_or_method",
    "instance",
    "_Feature"
   ],
   "window_display": false
  }
 },
 "nbformat": 4,
 "nbformat_minor": 4
}
